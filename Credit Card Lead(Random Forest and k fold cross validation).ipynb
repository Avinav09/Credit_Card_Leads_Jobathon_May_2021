{
 "cells": [
  {
   "cell_type": "markdown",
   "metadata": {},
   "source": [
    "## Credit Card Lead Prediction\n",
    "\n",
    "Happy Customer Bank is a mid-sized private bank that deals in all kinds of banking products, like Savings accounts, Current accounts, investment products, credit products, among other offerings.\n",
    "\n",
    "The bank also cross-sells products to its existing customers and to do so they use different kinds of communication like tele-calling, e-mails, recommendations on net banking, mobile banking, etc. \n",
    "\n",
    "In this case, the Happy Customer Bank wants to cross sell its credit cards to its existing customers. The bank has identified a set of customers that are eligible for taking these credit cards.\n",
    "\n",
    "Now, the bank is looking for your help in identifying customers that could show higher intent towards a recommended credit card, given:\n",
    "- Customer details (gender, age, region etc.)\n",
    "- Details of his/her relationship with the bank (Channel_Code,Vintage, 'Avg_Asset_Value etc.)\n",
    "\n",
    "- Channel_Code: A customer acquisition channel is any place your customers meet your brand for the first time — whether through social media, organic search, or a paid ad. Customer acquisition channels are how you bring in new customers.\n",
    "\n",
    "- Vintage: Vintage is a colloquial term used to describe mortgage-backed securities (MBS) that have been \"seasoned.\" That is, they've been issued long enough, and enough on-time payments have been made, that the risk of default is lower. Vintage is the age of an item as it relates to the year it was created."
   ]
  },
  {
   "cell_type": "code",
   "execution_count": 1,
   "metadata": {},
   "outputs": [
    {
     "name": "stderr",
     "output_type": "stream",
     "text": [
      "C:\\Users\\avina\\Anaconda3\\lib\\site-packages\\statsmodels\\tools\\_testing.py:19: FutureWarning: pandas.util.testing is deprecated. Use the functions in the public API at pandas.testing instead.\n",
      "  import pandas.util.testing as tm\n"
     ]
    }
   ],
   "source": [
    "import numpy as np\n",
    "import pandas as pd\n",
    "import seaborn as sns\n",
    "import matplotlib.pyplot as plt\n",
    "%matplotlib inline\n",
    "\n",
    "from sklearn.tree import DecisionTreeClassifier\n",
    "from IPython.display import Image\n",
    "from sklearn.externals.six import StringIO\n",
    "from sklearn.tree import  export_graphviz\n",
    "import pydotplus, graphviz\n",
    "\n",
    "from sklearn.metrics import roc_curve, accuracy_score, confusion_matrix\n",
    "from sklearn.metrics import roc_auc_score\n",
    "\n",
    "import warnings\n",
    "warnings.filterwarnings('ignore')"
   ]
  },
  {
   "cell_type": "code",
   "execution_count": 2,
   "metadata": {},
   "outputs": [],
   "source": [
    "pd.set_option('display.max_columns', 15)"
   ]
  },
  {
   "cell_type": "code",
   "execution_count": 3,
   "metadata": {},
   "outputs": [
    {
     "data": {
      "text/html": [
       "<div>\n",
       "<style scoped>\n",
       "    .dataframe tbody tr th:only-of-type {\n",
       "        vertical-align: middle;\n",
       "    }\n",
       "\n",
       "    .dataframe tbody tr th {\n",
       "        vertical-align: top;\n",
       "    }\n",
       "\n",
       "    .dataframe thead th {\n",
       "        text-align: right;\n",
       "    }\n",
       "</style>\n",
       "<table border=\"1\" class=\"dataframe\">\n",
       "  <thead>\n",
       "    <tr style=\"text-align: right;\">\n",
       "      <th></th>\n",
       "      <th>ID</th>\n",
       "      <th>Gender</th>\n",
       "      <th>Age</th>\n",
       "      <th>Region_Code</th>\n",
       "      <th>Occupation</th>\n",
       "      <th>Channel_Code</th>\n",
       "      <th>Vintage</th>\n",
       "      <th>Credit_Product</th>\n",
       "      <th>Avg_Account_Balance</th>\n",
       "      <th>Is_Active</th>\n",
       "      <th>Is_Lead</th>\n",
       "    </tr>\n",
       "  </thead>\n",
       "  <tbody>\n",
       "    <tr>\n",
       "      <th>0</th>\n",
       "      <td>NNVBBKZB</td>\n",
       "      <td>Female</td>\n",
       "      <td>73</td>\n",
       "      <td>RG268</td>\n",
       "      <td>Other</td>\n",
       "      <td>X3</td>\n",
       "      <td>43</td>\n",
       "      <td>No</td>\n",
       "      <td>1045696</td>\n",
       "      <td>No</td>\n",
       "      <td>0</td>\n",
       "    </tr>\n",
       "    <tr>\n",
       "      <th>1</th>\n",
       "      <td>IDD62UNG</td>\n",
       "      <td>Female</td>\n",
       "      <td>30</td>\n",
       "      <td>RG277</td>\n",
       "      <td>Salaried</td>\n",
       "      <td>X1</td>\n",
       "      <td>32</td>\n",
       "      <td>No</td>\n",
       "      <td>581988</td>\n",
       "      <td>No</td>\n",
       "      <td>0</td>\n",
       "    </tr>\n",
       "    <tr>\n",
       "      <th>2</th>\n",
       "      <td>HD3DSEMC</td>\n",
       "      <td>Female</td>\n",
       "      <td>56</td>\n",
       "      <td>RG268</td>\n",
       "      <td>Self_Employed</td>\n",
       "      <td>X3</td>\n",
       "      <td>26</td>\n",
       "      <td>No</td>\n",
       "      <td>1484315</td>\n",
       "      <td>Yes</td>\n",
       "      <td>0</td>\n",
       "    </tr>\n",
       "    <tr>\n",
       "      <th>3</th>\n",
       "      <td>BF3NC7KV</td>\n",
       "      <td>Male</td>\n",
       "      <td>34</td>\n",
       "      <td>RG270</td>\n",
       "      <td>Salaried</td>\n",
       "      <td>X1</td>\n",
       "      <td>19</td>\n",
       "      <td>No</td>\n",
       "      <td>470454</td>\n",
       "      <td>No</td>\n",
       "      <td>0</td>\n",
       "    </tr>\n",
       "    <tr>\n",
       "      <th>4</th>\n",
       "      <td>TEASRWXV</td>\n",
       "      <td>Female</td>\n",
       "      <td>30</td>\n",
       "      <td>RG282</td>\n",
       "      <td>Salaried</td>\n",
       "      <td>X1</td>\n",
       "      <td>33</td>\n",
       "      <td>No</td>\n",
       "      <td>886787</td>\n",
       "      <td>No</td>\n",
       "      <td>0</td>\n",
       "    </tr>\n",
       "    <tr>\n",
       "      <th>5</th>\n",
       "      <td>ACUTYTWS</td>\n",
       "      <td>Male</td>\n",
       "      <td>56</td>\n",
       "      <td>RG261</td>\n",
       "      <td>Self_Employed</td>\n",
       "      <td>X1</td>\n",
       "      <td>32</td>\n",
       "      <td>No</td>\n",
       "      <td>544163</td>\n",
       "      <td>Yes</td>\n",
       "      <td>0</td>\n",
       "    </tr>\n",
       "    <tr>\n",
       "      <th>6</th>\n",
       "      <td>ETQCZFEJ</td>\n",
       "      <td>Male</td>\n",
       "      <td>62</td>\n",
       "      <td>RG282</td>\n",
       "      <td>Other</td>\n",
       "      <td>X3</td>\n",
       "      <td>20</td>\n",
       "      <td>NaN</td>\n",
       "      <td>1056750</td>\n",
       "      <td>Yes</td>\n",
       "      <td>1</td>\n",
       "    </tr>\n",
       "    <tr>\n",
       "      <th>7</th>\n",
       "      <td>JJNJUQMQ</td>\n",
       "      <td>Female</td>\n",
       "      <td>48</td>\n",
       "      <td>RG265</td>\n",
       "      <td>Self_Employed</td>\n",
       "      <td>X3</td>\n",
       "      <td>13</td>\n",
       "      <td>No</td>\n",
       "      <td>444724</td>\n",
       "      <td>Yes</td>\n",
       "      <td>0</td>\n",
       "    </tr>\n",
       "    <tr>\n",
       "      <th>8</th>\n",
       "      <td>ZMQFYKCB</td>\n",
       "      <td>Female</td>\n",
       "      <td>40</td>\n",
       "      <td>RG283</td>\n",
       "      <td>Self_Employed</td>\n",
       "      <td>X2</td>\n",
       "      <td>38</td>\n",
       "      <td>No</td>\n",
       "      <td>1274284</td>\n",
       "      <td>No</td>\n",
       "      <td>0</td>\n",
       "    </tr>\n",
       "    <tr>\n",
       "      <th>9</th>\n",
       "      <td>NVKTFBA2</td>\n",
       "      <td>Female</td>\n",
       "      <td>55</td>\n",
       "      <td>RG268</td>\n",
       "      <td>Self_Employed</td>\n",
       "      <td>X2</td>\n",
       "      <td>49</td>\n",
       "      <td>Yes</td>\n",
       "      <td>2014239</td>\n",
       "      <td>No</td>\n",
       "      <td>0</td>\n",
       "    </tr>\n",
       "  </tbody>\n",
       "</table>\n",
       "</div>"
      ],
      "text/plain": [
       "         ID  Gender  Age Region_Code     Occupation Channel_Code  Vintage  \\\n",
       "0  NNVBBKZB  Female   73       RG268          Other           X3       43   \n",
       "1  IDD62UNG  Female   30       RG277       Salaried           X1       32   \n",
       "2  HD3DSEMC  Female   56       RG268  Self_Employed           X3       26   \n",
       "3  BF3NC7KV    Male   34       RG270       Salaried           X1       19   \n",
       "4  TEASRWXV  Female   30       RG282       Salaried           X1       33   \n",
       "5  ACUTYTWS    Male   56       RG261  Self_Employed           X1       32   \n",
       "6  ETQCZFEJ    Male   62       RG282          Other           X3       20   \n",
       "7  JJNJUQMQ  Female   48       RG265  Self_Employed           X3       13   \n",
       "8  ZMQFYKCB  Female   40       RG283  Self_Employed           X2       38   \n",
       "9  NVKTFBA2  Female   55       RG268  Self_Employed           X2       49   \n",
       "\n",
       "  Credit_Product  Avg_Account_Balance Is_Active  Is_Lead  \n",
       "0             No              1045696        No        0  \n",
       "1             No               581988        No        0  \n",
       "2             No              1484315       Yes        0  \n",
       "3             No               470454        No        0  \n",
       "4             No               886787        No        0  \n",
       "5             No               544163       Yes        0  \n",
       "6            NaN              1056750       Yes        1  \n",
       "7             No               444724       Yes        0  \n",
       "8             No              1274284        No        0  \n",
       "9            Yes              2014239        No        0  "
      ]
     },
     "execution_count": 3,
     "metadata": {},
     "output_type": "execute_result"
    }
   ],
   "source": [
    "df_train = pd.read_csv(r\"C:\\Users\\avina\\OneDrive\\Desktop\\Data\\Job-a-thon dataset\\train_s3TEQDk.csv\")\n",
    "df_train.head(10)"
   ]
  },
  {
   "cell_type": "code",
   "execution_count": 4,
   "metadata": {},
   "outputs": [
    {
     "data": {
      "text/html": [
       "<div>\n",
       "<style scoped>\n",
       "    .dataframe tbody tr th:only-of-type {\n",
       "        vertical-align: middle;\n",
       "    }\n",
       "\n",
       "    .dataframe tbody tr th {\n",
       "        vertical-align: top;\n",
       "    }\n",
       "\n",
       "    .dataframe thead th {\n",
       "        text-align: right;\n",
       "    }\n",
       "</style>\n",
       "<table border=\"1\" class=\"dataframe\">\n",
       "  <thead>\n",
       "    <tr style=\"text-align: right;\">\n",
       "      <th></th>\n",
       "      <th>ID</th>\n",
       "      <th>Gender</th>\n",
       "      <th>Age</th>\n",
       "      <th>Region_Code</th>\n",
       "      <th>Occupation</th>\n",
       "      <th>Channel_Code</th>\n",
       "      <th>Vintage</th>\n",
       "      <th>Credit_Product</th>\n",
       "      <th>Avg_Account_Balance</th>\n",
       "      <th>Is_Active</th>\n",
       "    </tr>\n",
       "  </thead>\n",
       "  <tbody>\n",
       "    <tr>\n",
       "      <th>0</th>\n",
       "      <td>VBENBARO</td>\n",
       "      <td>Male</td>\n",
       "      <td>29</td>\n",
       "      <td>RG254</td>\n",
       "      <td>Other</td>\n",
       "      <td>X1</td>\n",
       "      <td>25</td>\n",
       "      <td>Yes</td>\n",
       "      <td>742366</td>\n",
       "      <td>No</td>\n",
       "    </tr>\n",
       "    <tr>\n",
       "      <th>1</th>\n",
       "      <td>CCMEWNKY</td>\n",
       "      <td>Male</td>\n",
       "      <td>43</td>\n",
       "      <td>RG268</td>\n",
       "      <td>Other</td>\n",
       "      <td>X2</td>\n",
       "      <td>49</td>\n",
       "      <td>NaN</td>\n",
       "      <td>925537</td>\n",
       "      <td>No</td>\n",
       "    </tr>\n",
       "    <tr>\n",
       "      <th>2</th>\n",
       "      <td>VK3KGA9M</td>\n",
       "      <td>Male</td>\n",
       "      <td>31</td>\n",
       "      <td>RG270</td>\n",
       "      <td>Salaried</td>\n",
       "      <td>X1</td>\n",
       "      <td>14</td>\n",
       "      <td>No</td>\n",
       "      <td>215949</td>\n",
       "      <td>No</td>\n",
       "    </tr>\n",
       "    <tr>\n",
       "      <th>3</th>\n",
       "      <td>TT8RPZVC</td>\n",
       "      <td>Male</td>\n",
       "      <td>29</td>\n",
       "      <td>RG272</td>\n",
       "      <td>Other</td>\n",
       "      <td>X1</td>\n",
       "      <td>33</td>\n",
       "      <td>No</td>\n",
       "      <td>868070</td>\n",
       "      <td>No</td>\n",
       "    </tr>\n",
       "    <tr>\n",
       "      <th>4</th>\n",
       "      <td>SHQZEYTZ</td>\n",
       "      <td>Female</td>\n",
       "      <td>29</td>\n",
       "      <td>RG270</td>\n",
       "      <td>Other</td>\n",
       "      <td>X1</td>\n",
       "      <td>19</td>\n",
       "      <td>No</td>\n",
       "      <td>657087</td>\n",
       "      <td>No</td>\n",
       "    </tr>\n",
       "    <tr>\n",
       "      <th>5</th>\n",
       "      <td>MZZAQMPT</td>\n",
       "      <td>Male</td>\n",
       "      <td>60</td>\n",
       "      <td>RG268</td>\n",
       "      <td>Self_Employed</td>\n",
       "      <td>X3</td>\n",
       "      <td>110</td>\n",
       "      <td>No</td>\n",
       "      <td>4624262</td>\n",
       "      <td>No</td>\n",
       "    </tr>\n",
       "    <tr>\n",
       "      <th>6</th>\n",
       "      <td>Y88TW36I</td>\n",
       "      <td>Female</td>\n",
       "      <td>69</td>\n",
       "      <td>RG253</td>\n",
       "      <td>Other</td>\n",
       "      <td>X2</td>\n",
       "      <td>67</td>\n",
       "      <td>No</td>\n",
       "      <td>1032764</td>\n",
       "      <td>No</td>\n",
       "    </tr>\n",
       "    <tr>\n",
       "      <th>7</th>\n",
       "      <td>3UGOAQNU</td>\n",
       "      <td>Female</td>\n",
       "      <td>30</td>\n",
       "      <td>RG257</td>\n",
       "      <td>Salaried</td>\n",
       "      <td>X1</td>\n",
       "      <td>33</td>\n",
       "      <td>No</td>\n",
       "      <td>837009</td>\n",
       "      <td>No</td>\n",
       "    </tr>\n",
       "    <tr>\n",
       "      <th>8</th>\n",
       "      <td>VVUKMUJT</td>\n",
       "      <td>Male</td>\n",
       "      <td>43</td>\n",
       "      <td>RG284</td>\n",
       "      <td>Salaried</td>\n",
       "      <td>X3</td>\n",
       "      <td>81</td>\n",
       "      <td>NaN</td>\n",
       "      <td>1001232</td>\n",
       "      <td>Yes</td>\n",
       "    </tr>\n",
       "    <tr>\n",
       "      <th>9</th>\n",
       "      <td>9R363ZXS</td>\n",
       "      <td>Female</td>\n",
       "      <td>54</td>\n",
       "      <td>RG283</td>\n",
       "      <td>Self_Employed</td>\n",
       "      <td>X2</td>\n",
       "      <td>37</td>\n",
       "      <td>Yes</td>\n",
       "      <td>1667851</td>\n",
       "      <td>No</td>\n",
       "    </tr>\n",
       "  </tbody>\n",
       "</table>\n",
       "</div>"
      ],
      "text/plain": [
       "         ID  Gender  Age Region_Code     Occupation Channel_Code  Vintage  \\\n",
       "0  VBENBARO    Male   29       RG254          Other           X1       25   \n",
       "1  CCMEWNKY    Male   43       RG268          Other           X2       49   \n",
       "2  VK3KGA9M    Male   31       RG270       Salaried           X1       14   \n",
       "3  TT8RPZVC    Male   29       RG272          Other           X1       33   \n",
       "4  SHQZEYTZ  Female   29       RG270          Other           X1       19   \n",
       "5  MZZAQMPT    Male   60       RG268  Self_Employed           X3      110   \n",
       "6  Y88TW36I  Female   69       RG253          Other           X2       67   \n",
       "7  3UGOAQNU  Female   30       RG257       Salaried           X1       33   \n",
       "8  VVUKMUJT    Male   43       RG284       Salaried           X3       81   \n",
       "9  9R363ZXS  Female   54       RG283  Self_Employed           X2       37   \n",
       "\n",
       "  Credit_Product  Avg_Account_Balance Is_Active  \n",
       "0            Yes               742366        No  \n",
       "1            NaN               925537        No  \n",
       "2             No               215949        No  \n",
       "3             No               868070        No  \n",
       "4             No               657087        No  \n",
       "5             No              4624262        No  \n",
       "6             No              1032764        No  \n",
       "7             No               837009        No  \n",
       "8            NaN              1001232       Yes  \n",
       "9            Yes              1667851        No  "
      ]
     },
     "execution_count": 4,
     "metadata": {},
     "output_type": "execute_result"
    }
   ],
   "source": [
    "df_test = pd.read_csv(r\"C:\\Users\\avina\\OneDrive\\Desktop\\Data\\Job-a-thon dataset\\test_mSzZ8RL.csv\")\n",
    "df_test.head(10)"
   ]
  },
  {
   "cell_type": "code",
   "execution_count": 5,
   "metadata": {},
   "outputs": [
    {
     "data": {
      "text/html": [
       "<div>\n",
       "<style scoped>\n",
       "    .dataframe tbody tr th:only-of-type {\n",
       "        vertical-align: middle;\n",
       "    }\n",
       "\n",
       "    .dataframe tbody tr th {\n",
       "        vertical-align: top;\n",
       "    }\n",
       "\n",
       "    .dataframe thead th {\n",
       "        text-align: right;\n",
       "    }\n",
       "</style>\n",
       "<table border=\"1\" class=\"dataframe\">\n",
       "  <thead>\n",
       "    <tr style=\"text-align: right;\">\n",
       "      <th></th>\n",
       "      <th>Age</th>\n",
       "      <th>Vintage</th>\n",
       "      <th>Avg_Account_Balance</th>\n",
       "      <th>Is_Lead</th>\n",
       "    </tr>\n",
       "  </thead>\n",
       "  <tbody>\n",
       "    <tr>\n",
       "      <th>count</th>\n",
       "      <td>245725.000000</td>\n",
       "      <td>245725.000000</td>\n",
       "      <td>2.457250e+05</td>\n",
       "      <td>245725.000000</td>\n",
       "    </tr>\n",
       "    <tr>\n",
       "      <th>mean</th>\n",
       "      <td>43.856307</td>\n",
       "      <td>46.959141</td>\n",
       "      <td>1.128403e+06</td>\n",
       "      <td>0.237208</td>\n",
       "    </tr>\n",
       "    <tr>\n",
       "      <th>std</th>\n",
       "      <td>14.828672</td>\n",
       "      <td>32.353136</td>\n",
       "      <td>8.529364e+05</td>\n",
       "      <td>0.425372</td>\n",
       "    </tr>\n",
       "    <tr>\n",
       "      <th>min</th>\n",
       "      <td>23.000000</td>\n",
       "      <td>7.000000</td>\n",
       "      <td>2.079000e+04</td>\n",
       "      <td>0.000000</td>\n",
       "    </tr>\n",
       "    <tr>\n",
       "      <th>25%</th>\n",
       "      <td>30.000000</td>\n",
       "      <td>20.000000</td>\n",
       "      <td>6.043100e+05</td>\n",
       "      <td>0.000000</td>\n",
       "    </tr>\n",
       "    <tr>\n",
       "      <th>50%</th>\n",
       "      <td>43.000000</td>\n",
       "      <td>32.000000</td>\n",
       "      <td>8.946010e+05</td>\n",
       "      <td>0.000000</td>\n",
       "    </tr>\n",
       "    <tr>\n",
       "      <th>75%</th>\n",
       "      <td>54.000000</td>\n",
       "      <td>73.000000</td>\n",
       "      <td>1.366666e+06</td>\n",
       "      <td>0.000000</td>\n",
       "    </tr>\n",
       "    <tr>\n",
       "      <th>max</th>\n",
       "      <td>85.000000</td>\n",
       "      <td>135.000000</td>\n",
       "      <td>1.035201e+07</td>\n",
       "      <td>1.000000</td>\n",
       "    </tr>\n",
       "  </tbody>\n",
       "</table>\n",
       "</div>"
      ],
      "text/plain": [
       "                 Age        Vintage  Avg_Account_Balance        Is_Lead\n",
       "count  245725.000000  245725.000000         2.457250e+05  245725.000000\n",
       "mean       43.856307      46.959141         1.128403e+06       0.237208\n",
       "std        14.828672      32.353136         8.529364e+05       0.425372\n",
       "min        23.000000       7.000000         2.079000e+04       0.000000\n",
       "25%        30.000000      20.000000         6.043100e+05       0.000000\n",
       "50%        43.000000      32.000000         8.946010e+05       0.000000\n",
       "75%        54.000000      73.000000         1.366666e+06       0.000000\n",
       "max        85.000000     135.000000         1.035201e+07       1.000000"
      ]
     },
     "execution_count": 5,
     "metadata": {},
     "output_type": "execute_result"
    }
   ],
   "source": [
    "df_train.describe()"
   ]
  },
  {
   "cell_type": "code",
   "execution_count": 6,
   "metadata": {},
   "outputs": [
    {
     "name": "stdout",
     "output_type": "stream",
     "text": [
      "<class 'pandas.core.frame.DataFrame'>\n",
      "RangeIndex: 105312 entries, 0 to 105311\n",
      "Data columns (total 10 columns):\n",
      " #   Column               Non-Null Count   Dtype \n",
      "---  ------               --------------   ----- \n",
      " 0   ID                   105312 non-null  object\n",
      " 1   Gender               105312 non-null  object\n",
      " 2   Age                  105312 non-null  int64 \n",
      " 3   Region_Code          105312 non-null  object\n",
      " 4   Occupation           105312 non-null  object\n",
      " 5   Channel_Code         105312 non-null  object\n",
      " 6   Vintage              105312 non-null  int64 \n",
      " 7   Credit_Product       92790 non-null   object\n",
      " 8   Avg_Account_Balance  105312 non-null  int64 \n",
      " 9   Is_Active            105312 non-null  object\n",
      "dtypes: int64(3), object(7)\n",
      "memory usage: 8.0+ MB\n"
     ]
    }
   ],
   "source": [
    "df_test.info()"
   ]
  },
  {
   "cell_type": "code",
   "execution_count": 7,
   "metadata": {},
   "outputs": [
    {
     "data": {
      "text/plain": [
       "<matplotlib.axes._subplots.AxesSubplot at 0x1dce93a7908>"
      ]
     },
     "execution_count": 7,
     "metadata": {},
     "output_type": "execute_result"
    },
    {
     "data": {
      "image/png": "[encoded data removed]",
      "text/plain": [
       "<Figure size 864x432 with 3 Axes>"
      ]
     },
     "metadata": {
      "needs_background": "light"
     },
     "output_type": "display_data"
    }
   ],
   "source": [
    "import missingno as msno\n",
    "msno.bar(df_train, figsize=(12, 6), fontsize=12, color='steelblue')"
   ]
  },
  {
   "cell_type": "code",
   "execution_count": 8,
   "metadata": {},
   "outputs": [],
   "source": [
    "df_train = df_train.dropna()"
   ]
  },
  {
   "cell_type": "code",
   "execution_count": 9,
   "metadata": {},
   "outputs": [
    {
     "data": {
      "text/plain": [
       "<matplotlib.axes._subplots.AxesSubplot at 0x1dcec466f48>"
      ]
     },
     "execution_count": 9,
     "metadata": {},
     "output_type": "execute_result"
    },
    {
     "data": {
      "image/png": "[encoded data removed]",
      "text/plain": [
       "<Figure size 432x288 with 2 Axes>"
      ]
     },
     "metadata": {
      "needs_background": "light"
     },
     "output_type": "display_data"
    }
   ],
   "source": [
    "sns.heatmap(df_train.isna())"
   ]
  },
  {
   "cell_type": "code",
   "execution_count": 10,
   "metadata": {},
   "outputs": [
    {
     "data": {
      "text/plain": [
       "(216400, 11)"
      ]
     },
     "execution_count": 10,
     "metadata": {},
     "output_type": "execute_result"
    }
   ],
   "source": [
    "df_train.shape"
   ]
  },
  {
   "cell_type": "code",
   "execution_count": 11,
   "metadata": {},
   "outputs": [
    {
     "data": {
      "text/plain": [
       "<matplotlib.axes._subplots.AxesSubplot at 0x1dcec3c9f88>"
      ]
     },
     "execution_count": 11,
     "metadata": {},
     "output_type": "execute_result"
    },
    {
     "data": {
      "image/png": "[encoded data removed]",
      "text/plain": [
       "<Figure size 864x432 with 3 Axes>"
      ]
     },
     "metadata": {
      "needs_background": "light"
     },
     "output_type": "display_data"
    }
   ],
   "source": [
    "import missingno as msno\n",
    "msno.bar(df_test, figsize=(12, 6), fontsize=12, color='steelblue')"
   ]
  },
  {
   "cell_type": "code",
   "execution_count": 12,
   "metadata": {},
   "outputs": [
    {
     "data": {
      "text/plain": [
       "0"
      ]
     },
     "execution_count": 12,
     "metadata": {},
     "output_type": "execute_result"
    }
   ],
   "source": [
    "df_test['Credit_Product'].fillna(df_test['Credit_Product'].mode()[0],inplace=True)\n",
    "df_test['Credit_Product'].isna().sum()"
   ]
  },
  {
   "cell_type": "code",
   "execution_count": 13,
   "metadata": {},
   "outputs": [
    {
     "name": "stdout",
     "output_type": "stream",
     "text": [
      "ID:216400\n",
      "Gender:2\n",
      "Age:63\n",
      "Region_Code:35\n",
      "Occupation:4\n",
      "Channel_Code:4\n",
      "Vintage:66\n",
      "Credit_Product:2\n",
      "Avg_Account_Balance:125953\n",
      "Is_Active:2\n",
      "Is_Lead:2\n"
     ]
    }
   ],
   "source": [
    "for features in df_train.columns:\n",
    "    print(f\"{features}:{df_train[features].nunique()}\")\n",
    "    "
   ]
  },
  {
   "cell_type": "code",
   "execution_count": 14,
   "metadata": {},
   "outputs": [
    {
     "name": "stdout",
     "output_type": "stream",
     "text": [
      "ID:105312\n",
      "Gender:2\n",
      "Age:62\n",
      "Region_Code:35\n",
      "Occupation:4\n",
      "Channel_Code:4\n",
      "Vintage:66\n",
      "Credit_Product:2\n",
      "Avg_Account_Balance:78315\n",
      "Is_Active:2\n"
     ]
    }
   ],
   "source": [
    "for features in df_test.columns:\n",
    "    print(f\"{features}:{df_test[features].nunique()}\")"
   ]
  },
  {
   "cell_type": "code",
   "execution_count": 15,
   "metadata": {},
   "outputs": [],
   "source": [
    "for features in ['Credit_Product','Is_Active']:\n",
    "    df_train[features] = df_train[features].apply(lambda x: 1 if x =='Yes' else (0 if x =='No' else None))"
   ]
  },
  {
   "cell_type": "code",
   "execution_count": 16,
   "metadata": {},
   "outputs": [],
   "source": [
    "#df_train['Credit_Product'] = df_train['Credit_Product'].astype(int)"
   ]
  },
  {
   "cell_type": "code",
   "execution_count": 17,
   "metadata": {},
   "outputs": [],
   "source": [
    "df_train['Gender'] = df_train['Gender'].apply(lambda x: 1 if x =='Male' else (0 if x =='Female' else None))"
   ]
  },
  {
   "cell_type": "code",
   "execution_count": 18,
   "metadata": {},
   "outputs": [],
   "source": [
    "#df_train['Credit_Product'].ast"
   ]
  },
  {
   "cell_type": "code",
   "execution_count": 19,
   "metadata": {},
   "outputs": [
    {
     "data": {
      "text/html": [
       "<div>\n",
       "<style scoped>\n",
       "    .dataframe tbody tr th:only-of-type {\n",
       "        vertical-align: middle;\n",
       "    }\n",
       "\n",
       "    .dataframe tbody tr th {\n",
       "        vertical-align: top;\n",
       "    }\n",
       "\n",
       "    .dataframe thead th {\n",
       "        text-align: right;\n",
       "    }\n",
       "</style>\n",
       "<table border=\"1\" class=\"dataframe\">\n",
       "  <thead>\n",
       "    <tr style=\"text-align: right;\">\n",
       "      <th></th>\n",
       "      <th>ID</th>\n",
       "      <th>Gender</th>\n",
       "      <th>Age</th>\n",
       "      <th>Region_Code</th>\n",
       "      <th>Occupation</th>\n",
       "      <th>Channel_Code</th>\n",
       "      <th>Vintage</th>\n",
       "      <th>Credit_Product</th>\n",
       "      <th>Avg_Account_Balance</th>\n",
       "      <th>Is_Active</th>\n",
       "      <th>Is_Lead</th>\n",
       "    </tr>\n",
       "  </thead>\n",
       "  <tbody>\n",
       "    <tr>\n",
       "      <th>0</th>\n",
       "      <td>NNVBBKZB</td>\n",
       "      <td>0</td>\n",
       "      <td>73</td>\n",
       "      <td>RG268</td>\n",
       "      <td>Other</td>\n",
       "      <td>X3</td>\n",
       "      <td>43</td>\n",
       "      <td>0</td>\n",
       "      <td>1045696</td>\n",
       "      <td>0</td>\n",
       "      <td>0</td>\n",
       "    </tr>\n",
       "    <tr>\n",
       "      <th>1</th>\n",
       "      <td>IDD62UNG</td>\n",
       "      <td>0</td>\n",
       "      <td>30</td>\n",
       "      <td>RG277</td>\n",
       "      <td>Salaried</td>\n",
       "      <td>X1</td>\n",
       "      <td>32</td>\n",
       "      <td>0</td>\n",
       "      <td>581988</td>\n",
       "      <td>0</td>\n",
       "      <td>0</td>\n",
       "    </tr>\n",
       "    <tr>\n",
       "      <th>2</th>\n",
       "      <td>HD3DSEMC</td>\n",
       "      <td>0</td>\n",
       "      <td>56</td>\n",
       "      <td>RG268</td>\n",
       "      <td>Self_Employed</td>\n",
       "      <td>X3</td>\n",
       "      <td>26</td>\n",
       "      <td>0</td>\n",
       "      <td>1484315</td>\n",
       "      <td>1</td>\n",
       "      <td>0</td>\n",
       "    </tr>\n",
       "    <tr>\n",
       "      <th>3</th>\n",
       "      <td>BF3NC7KV</td>\n",
       "      <td>1</td>\n",
       "      <td>34</td>\n",
       "      <td>RG270</td>\n",
       "      <td>Salaried</td>\n",
       "      <td>X1</td>\n",
       "      <td>19</td>\n",
       "      <td>0</td>\n",
       "      <td>470454</td>\n",
       "      <td>0</td>\n",
       "      <td>0</td>\n",
       "    </tr>\n",
       "    <tr>\n",
       "      <th>4</th>\n",
       "      <td>TEASRWXV</td>\n",
       "      <td>0</td>\n",
       "      <td>30</td>\n",
       "      <td>RG282</td>\n",
       "      <td>Salaried</td>\n",
       "      <td>X1</td>\n",
       "      <td>33</td>\n",
       "      <td>0</td>\n",
       "      <td>886787</td>\n",
       "      <td>0</td>\n",
       "      <td>0</td>\n",
       "    </tr>\n",
       "    <tr>\n",
       "      <th>5</th>\n",
       "      <td>ACUTYTWS</td>\n",
       "      <td>1</td>\n",
       "      <td>56</td>\n",
       "      <td>RG261</td>\n",
       "      <td>Self_Employed</td>\n",
       "      <td>X1</td>\n",
       "      <td>32</td>\n",
       "      <td>0</td>\n",
       "      <td>544163</td>\n",
       "      <td>1</td>\n",
       "      <td>0</td>\n",
       "    </tr>\n",
       "    <tr>\n",
       "      <th>7</th>\n",
       "      <td>JJNJUQMQ</td>\n",
       "      <td>0</td>\n",
       "      <td>48</td>\n",
       "      <td>RG265</td>\n",
       "      <td>Self_Employed</td>\n",
       "      <td>X3</td>\n",
       "      <td>13</td>\n",
       "      <td>0</td>\n",
       "      <td>444724</td>\n",
       "      <td>1</td>\n",
       "      <td>0</td>\n",
       "    </tr>\n",
       "    <tr>\n",
       "      <th>8</th>\n",
       "      <td>ZMQFYKCB</td>\n",
       "      <td>0</td>\n",
       "      <td>40</td>\n",
       "      <td>RG283</td>\n",
       "      <td>Self_Employed</td>\n",
       "      <td>X2</td>\n",
       "      <td>38</td>\n",
       "      <td>0</td>\n",
       "      <td>1274284</td>\n",
       "      <td>0</td>\n",
       "      <td>0</td>\n",
       "    </tr>\n",
       "    <tr>\n",
       "      <th>9</th>\n",
       "      <td>NVKTFBA2</td>\n",
       "      <td>0</td>\n",
       "      <td>55</td>\n",
       "      <td>RG268</td>\n",
       "      <td>Self_Employed</td>\n",
       "      <td>X2</td>\n",
       "      <td>49</td>\n",
       "      <td>1</td>\n",
       "      <td>2014239</td>\n",
       "      <td>0</td>\n",
       "      <td>0</td>\n",
       "    </tr>\n",
       "    <tr>\n",
       "      <th>10</th>\n",
       "      <td>NVC424KZ</td>\n",
       "      <td>1</td>\n",
       "      <td>53</td>\n",
       "      <td>RG254</td>\n",
       "      <td>Self_Employed</td>\n",
       "      <td>X3</td>\n",
       "      <td>123</td>\n",
       "      <td>0</td>\n",
       "      <td>980664</td>\n",
       "      <td>1</td>\n",
       "      <td>0</td>\n",
       "    </tr>\n",
       "  </tbody>\n",
       "</table>\n",
       "</div>"
      ],
      "text/plain": [
       "          ID  Gender  Age Region_Code     Occupation Channel_Code  Vintage  \\\n",
       "0   NNVBBKZB       0   73       RG268          Other           X3       43   \n",
       "1   IDD62UNG       0   30       RG277       Salaried           X1       32   \n",
       "2   HD3DSEMC       0   56       RG268  Self_Employed           X3       26   \n",
       "3   BF3NC7KV       1   34       RG270       Salaried           X1       19   \n",
       "4   TEASRWXV       0   30       RG282       Salaried           X1       33   \n",
       "5   ACUTYTWS       1   56       RG261  Self_Employed           X1       32   \n",
       "7   JJNJUQMQ       0   48       RG265  Self_Employed           X3       13   \n",
       "8   ZMQFYKCB       0   40       RG283  Self_Employed           X2       38   \n",
       "9   NVKTFBA2       0   55       RG268  Self_Employed           X2       49   \n",
       "10  NVC424KZ       1   53       RG254  Self_Employed           X3      123   \n",
       "\n",
       "    Credit_Product  Avg_Account_Balance  Is_Active  Is_Lead  \n",
       "0                0              1045696          0        0  \n",
       "1                0               581988          0        0  \n",
       "2                0              1484315          1        0  \n",
       "3                0               470454          0        0  \n",
       "4                0               886787          0        0  \n",
       "5                0               544163          1        0  \n",
       "7                0               444724          1        0  \n",
       "8                0              1274284          0        0  \n",
       "9                1              2014239          0        0  \n",
       "10               0               980664          1        0  "
      ]
     },
     "execution_count": 19,
     "metadata": {},
     "output_type": "execute_result"
    }
   ],
   "source": [
    "df_train.head(10)"
   ]
  },
  {
   "cell_type": "code",
   "execution_count": 20,
   "metadata": {},
   "outputs": [],
   "source": [
    "for features in ['Credit_Product','Is_Active']:\n",
    "    df_test[features] = df_test[features].apply(lambda x: 1 if x =='Yes' else (0 if x =='No' else None))"
   ]
  },
  {
   "cell_type": "code",
   "execution_count": 21,
   "metadata": {},
   "outputs": [],
   "source": [
    "df_test['Gender'] = df_test['Gender'].apply(lambda x: 1 if x =='Male' else (0 if x =='Female' else None))"
   ]
  },
  {
   "cell_type": "code",
   "execution_count": 22,
   "metadata": {},
   "outputs": [
    {
     "data": {
      "text/html": [
       "<div>\n",
       "<style scoped>\n",
       "    .dataframe tbody tr th:only-of-type {\n",
       "        vertical-align: middle;\n",
       "    }\n",
       "\n",
       "    .dataframe tbody tr th {\n",
       "        vertical-align: top;\n",
       "    }\n",
       "\n",
       "    .dataframe thead th {\n",
       "        text-align: right;\n",
       "    }\n",
       "</style>\n",
       "<table border=\"1\" class=\"dataframe\">\n",
       "  <thead>\n",
       "    <tr style=\"text-align: right;\">\n",
       "      <th></th>\n",
       "      <th>ID</th>\n",
       "      <th>Gender</th>\n",
       "      <th>Age</th>\n",
       "      <th>Region_Code</th>\n",
       "      <th>Occupation</th>\n",
       "      <th>Channel_Code</th>\n",
       "      <th>Vintage</th>\n",
       "      <th>Credit_Product</th>\n",
       "      <th>Avg_Account_Balance</th>\n",
       "      <th>Is_Active</th>\n",
       "    </tr>\n",
       "  </thead>\n",
       "  <tbody>\n",
       "    <tr>\n",
       "      <th>0</th>\n",
       "      <td>VBENBARO</td>\n",
       "      <td>1</td>\n",
       "      <td>29</td>\n",
       "      <td>RG254</td>\n",
       "      <td>Other</td>\n",
       "      <td>X1</td>\n",
       "      <td>25</td>\n",
       "      <td>1</td>\n",
       "      <td>742366</td>\n",
       "      <td>0</td>\n",
       "    </tr>\n",
       "    <tr>\n",
       "      <th>1</th>\n",
       "      <td>CCMEWNKY</td>\n",
       "      <td>1</td>\n",
       "      <td>43</td>\n",
       "      <td>RG268</td>\n",
       "      <td>Other</td>\n",
       "      <td>X2</td>\n",
       "      <td>49</td>\n",
       "      <td>0</td>\n",
       "      <td>925537</td>\n",
       "      <td>0</td>\n",
       "    </tr>\n",
       "    <tr>\n",
       "      <th>2</th>\n",
       "      <td>VK3KGA9M</td>\n",
       "      <td>1</td>\n",
       "      <td>31</td>\n",
       "      <td>RG270</td>\n",
       "      <td>Salaried</td>\n",
       "      <td>X1</td>\n",
       "      <td>14</td>\n",
       "      <td>0</td>\n",
       "      <td>215949</td>\n",
       "      <td>0</td>\n",
       "    </tr>\n",
       "    <tr>\n",
       "      <th>3</th>\n",
       "      <td>TT8RPZVC</td>\n",
       "      <td>1</td>\n",
       "      <td>29</td>\n",
       "      <td>RG272</td>\n",
       "      <td>Other</td>\n",
       "      <td>X1</td>\n",
       "      <td>33</td>\n",
       "      <td>0</td>\n",
       "      <td>868070</td>\n",
       "      <td>0</td>\n",
       "    </tr>\n",
       "    <tr>\n",
       "      <th>4</th>\n",
       "      <td>SHQZEYTZ</td>\n",
       "      <td>0</td>\n",
       "      <td>29</td>\n",
       "      <td>RG270</td>\n",
       "      <td>Other</td>\n",
       "      <td>X1</td>\n",
       "      <td>19</td>\n",
       "      <td>0</td>\n",
       "      <td>657087</td>\n",
       "      <td>0</td>\n",
       "    </tr>\n",
       "    <tr>\n",
       "      <th>5</th>\n",
       "      <td>MZZAQMPT</td>\n",
       "      <td>1</td>\n",
       "      <td>60</td>\n",
       "      <td>RG268</td>\n",
       "      <td>Self_Employed</td>\n",
       "      <td>X3</td>\n",
       "      <td>110</td>\n",
       "      <td>0</td>\n",
       "      <td>4624262</td>\n",
       "      <td>0</td>\n",
       "    </tr>\n",
       "    <tr>\n",
       "      <th>6</th>\n",
       "      <td>Y88TW36I</td>\n",
       "      <td>0</td>\n",
       "      <td>69</td>\n",
       "      <td>RG253</td>\n",
       "      <td>Other</td>\n",
       "      <td>X2</td>\n",
       "      <td>67</td>\n",
       "      <td>0</td>\n",
       "      <td>1032764</td>\n",
       "      <td>0</td>\n",
       "    </tr>\n",
       "    <tr>\n",
       "      <th>7</th>\n",
       "      <td>3UGOAQNU</td>\n",
       "      <td>0</td>\n",
       "      <td>30</td>\n",
       "      <td>RG257</td>\n",
       "      <td>Salaried</td>\n",
       "      <td>X1</td>\n",
       "      <td>33</td>\n",
       "      <td>0</td>\n",
       "      <td>837009</td>\n",
       "      <td>0</td>\n",
       "    </tr>\n",
       "    <tr>\n",
       "      <th>8</th>\n",
       "      <td>VVUKMUJT</td>\n",
       "      <td>1</td>\n",
       "      <td>43</td>\n",
       "      <td>RG284</td>\n",
       "      <td>Salaried</td>\n",
       "      <td>X3</td>\n",
       "      <td>81</td>\n",
       "      <td>0</td>\n",
       "      <td>1001232</td>\n",
       "      <td>1</td>\n",
       "    </tr>\n",
       "    <tr>\n",
       "      <th>9</th>\n",
       "      <td>9R363ZXS</td>\n",
       "      <td>0</td>\n",
       "      <td>54</td>\n",
       "      <td>RG283</td>\n",
       "      <td>Self_Employed</td>\n",
       "      <td>X2</td>\n",
       "      <td>37</td>\n",
       "      <td>1</td>\n",
       "      <td>1667851</td>\n",
       "      <td>0</td>\n",
       "    </tr>\n",
       "  </tbody>\n",
       "</table>\n",
       "</div>"
      ],
      "text/plain": [
       "         ID  Gender  Age Region_Code     Occupation Channel_Code  Vintage  \\\n",
       "0  VBENBARO       1   29       RG254          Other           X1       25   \n",
       "1  CCMEWNKY       1   43       RG268          Other           X2       49   \n",
       "2  VK3KGA9M       1   31       RG270       Salaried           X1       14   \n",
       "3  TT8RPZVC       1   29       RG272          Other           X1       33   \n",
       "4  SHQZEYTZ       0   29       RG270          Other           X1       19   \n",
       "5  MZZAQMPT       1   60       RG268  Self_Employed           X3      110   \n",
       "6  Y88TW36I       0   69       RG253          Other           X2       67   \n",
       "7  3UGOAQNU       0   30       RG257       Salaried           X1       33   \n",
       "8  VVUKMUJT       1   43       RG284       Salaried           X3       81   \n",
       "9  9R363ZXS       0   54       RG283  Self_Employed           X2       37   \n",
       "\n",
       "   Credit_Product  Avg_Account_Balance  Is_Active  \n",
       "0               1               742366          0  \n",
       "1               0               925537          0  \n",
       "2               0               215949          0  \n",
       "3               0               868070          0  \n",
       "4               0               657087          0  \n",
       "5               0              4624262          0  \n",
       "6               0              1032764          0  \n",
       "7               0               837009          0  \n",
       "8               0              1001232          1  \n",
       "9               1              1667851          0  "
      ]
     },
     "execution_count": 22,
     "metadata": {},
     "output_type": "execute_result"
    }
   ],
   "source": [
    "df_test.head(10)"
   ]
  },
  {
   "cell_type": "code",
   "execution_count": 23,
   "metadata": {},
   "outputs": [
    {
     "data": {
      "text/plain": [
       "<matplotlib.axes._subplots.AxesSubplot at 0x1dced021b48>"
      ]
     },
     "execution_count": 23,
     "metadata": {},
     "output_type": "execute_result"
    },
    {
     "data": {
      "image/png": "[encoded data removed]",
      "text/plain": [
       "<Figure size 1440x1080 with 4 Axes>"
      ]
     },
     "metadata": {
      "needs_background": "light"
     },
     "output_type": "display_data"
    }
   ],
   "source": [
    "#visualizing the binary features\n",
    "plt.figure(figsize =(20,15))\n",
    "plt.subplot(2,2,1)\n",
    "#sns.countplot(df_train['Gender'])\n",
    "sns.countplot(x=\"Gender\", hue=\"Is_Lead\", data=df_train, palette=\"Blues\")\n",
    "\n",
    "plt.subplot(2,2,2)\n",
    "#sns.countplot(df_train['Credit_Product'])\n",
    "sns.countplot(x=\"Credit_Product\", hue=\"Is_Lead\", data=df_train, palette=\"Blues\")\n",
    "\n",
    "plt.subplot(2,2,3)\n",
    "#sns.countplot(df_train['Is_Active'])\n",
    "sns.countplot(x=\"Is_Active\", hue=\"Is_Lead\", data=df_train, palette=\"Blues\")\n",
    "\n",
    "plt.subplot(2,2,4)\n",
    "sns.countplot(df_train['Is_Lead'],palette=\"Blues\")"
   ]
  },
  {
   "cell_type": "code",
   "execution_count": 24,
   "metadata": {},
   "outputs": [
    {
     "data": {
      "text/plain": [
       "Self_Employed    86120\n",
       "Salaried         67783\n",
       "Other            60846\n",
       "Entrepreneur      1651\n",
       "Name: Occupation, dtype: int64"
      ]
     },
     "execution_count": 24,
     "metadata": {},
     "output_type": "execute_result"
    }
   ],
   "source": [
    "df_train['Occupation'].value_counts()"
   ]
  },
  {
   "cell_type": "code",
   "execution_count": 25,
   "metadata": {},
   "outputs": [
    {
     "data": {
      "text/plain": [
       "X1    100660\n",
       "X2     55892\n",
       "X3     54995\n",
       "X4      4853\n",
       "Name: Channel_Code, dtype: int64"
      ]
     },
     "execution_count": 25,
     "metadata": {},
     "output_type": "execute_result"
    }
   ],
   "source": [
    "df_train['Channel_Code'].value_counts()"
   ]
  },
  {
   "cell_type": "code",
   "execution_count": 26,
   "metadata": {},
   "outputs": [
    {
     "data": {
      "image/png": "[encoded data removed]",
      "text/plain": [
       "<Figure size 1440x1080 with 2 Axes>"
      ]
     },
     "metadata": {},
     "output_type": "display_data"
    }
   ],
   "source": [
    "f, axes = plt.subplots(2, 1, figsize=(20, 15), facecolor='white')\n",
    "\n",
    "#ax1 = sns.countplot(x=\"Region_Code\", hue=\"Is_Lead\", data=df_train, palette=\"Blues\", ax=axes[0,0])\n",
    "ax1 = sns.countplot(x=\"Channel_Code\", hue=\"Is_Lead\", data=df_train, palette=\"Blues\", ax=axes[0])\n",
    "ax1.title.set_text('FREQUENCY OF Channel Code VARIABLE (BY Is_Lead)')\n",
    "ax2 = sns.countplot(x=\"Occupation\", hue=\"Is_Lead\", data=df_train, palette=\"Blues\", ax=axes[1])\n",
    "ax2.title.set_text('FREQUENCY OF Occupation VARIABLE (BY Is_Lead)')"
   ]
  },
  {
   "cell_type": "code",
   "execution_count": 27,
   "metadata": {},
   "outputs": [
    {
     "data": {
      "image/png": "[encoded data removed]",
      "text/plain": [
       "<Figure size 1440x1080 with 1 Axes>"
      ]
     },
     "metadata": {
      "needs_background": "light"
     },
     "output_type": "display_data"
    }
   ],
   "source": [
    "plt.figure(figsize =(20,15))\n",
    "plt.xticks(rotation=90)\n",
    "ax1 = sns.countplot(x=\"Region_Code\", hue=\"Is_Lead\", data=df_train, palette=\"Blues\")"
   ]
  },
  {
   "cell_type": "code",
   "execution_count": 28,
   "metadata": {},
   "outputs": [
    {
     "name": "stdout",
     "output_type": "stream",
     "text": [
      "33313 183087\n"
     ]
    }
   ],
   "source": [
    "yeah = df_train['Is_Lead'].value_counts()\n",
    "no = yeah[0]\n",
    "yes = yeah[1]\n",
    "print(yes,no)"
   ]
  },
  {
   "cell_type": "code",
   "execution_count": 29,
   "metadata": {},
   "outputs": [
    {
     "name": "stdout",
     "output_type": "stream",
     "text": [
      "15.4 84.6\n"
     ]
    }
   ],
   "source": [
    "yes_perc = round(yes/len(df_train)*100, 1)\n",
    "no_perc = round(no/len(df_train)*100, 1)\n",
    "print(yes_perc,no_perc)"
   ]
  },
  {
   "cell_type": "code",
   "execution_count": 30,
   "metadata": {},
   "outputs": [
    {
     "data": {
      "image/png": "[encoded data removed]",
      "text/plain": [
       "<Figure size 576x576 with 1 Axes>"
      ]
     },
     "metadata": {
      "needs_background": "light"
     },
     "output_type": "display_data"
    }
   ],
   "source": [
    "# Defining the plot size\n",
    "plt.figure(figsize=(8, 8))\n",
    "\n",
    "  \n",
    "# Defining the values for x-axis, y-axis\n",
    "# and from which datafarme the values are to be picked\n",
    "plots = sns.countplot('Is_Lead',data=df_train, palette=\"Blues\")\n",
    "  \n",
    "# Iterrating over the bars one-by-one\n",
    "for bar in plots.patches:\n",
    "    \n",
    "    plots.annotate(format(bar.get_height(), '.2f'), \n",
    "                   (bar.get_x() + bar.get_width() / 2, \n",
    "                    bar.get_height()), ha='center', va='center',\n",
    "                   size=15, xytext=(0, 8),\n",
    "                   textcoords='offset points')\n",
    "    plots.annotate(str(no_perc)+\" %\", xy=(-0.3, 15000), xytext=(-0.1, 8000), size=20)\n",
    "    plots.annotate(str(yes_perc)+\" %\", xy=(0.7, 15000), xytext=(0.9, 8000), size=20)\n",
    "  \n",
    "\n",
    "  \n",
    "# Setting the title for the graph\n",
    "plt.title('COUNT OF COUTOMER INTERESTED IN TAKING CREDIT CARDS', size=14)\n",
    "  \n",
    "# Fianlly showing the plot\n",
    "plt.show()"
   ]
  },
  {
   "cell_type": "code",
   "execution_count": 31,
   "metadata": {},
   "outputs": [
    {
     "data": {
      "text/plain": [
       "<matplotlib.axes._subplots.AxesSubplot at 0x1dcf0bb9bc8>"
      ]
     },
     "execution_count": 31,
     "metadata": {},
     "output_type": "execute_result"
    },
    {
     "data": {
      "image/png": "[encoded data removed]",
      "text/plain": [
       "<Figure size 432x288 with 2 Axes>"
      ]
     },
     "metadata": {
      "needs_background": "light"
     },
     "output_type": "display_data"
    }
   ],
   "source": [
    "sns.heatmap(df_train.corr(),annot=True)"
   ]
  },
  {
   "cell_type": "code",
   "execution_count": 32,
   "metadata": {},
   "outputs": [
    {
     "data": {
      "text/plain": [
       "0    183087\n",
       "1     33313\n",
       "Name: Is_Lead, dtype: int64"
      ]
     },
     "execution_count": 32,
     "metadata": {},
     "output_type": "execute_result"
    }
   ],
   "source": [
    "df_train['Is_Lead'].value_counts()"
   ]
  },
  {
   "cell_type": "code",
   "execution_count": 33,
   "metadata": {},
   "outputs": [
    {
     "data": {
      "text/plain": [
       "Credit_Product\n",
       "0    10623\n",
       "1    22690\n",
       "Name: Is_Lead, dtype: int64"
      ]
     },
     "execution_count": 33,
     "metadata": {},
     "output_type": "execute_result"
    }
   ],
   "source": [
    "df_train.groupby('Credit_Product')['Is_Lead'].sum()"
   ]
  },
  {
   "cell_type": "code",
   "execution_count": 34,
   "metadata": {},
   "outputs": [],
   "source": [
    "# Univariate Analysis on Credit_Score\n",
    "yes_perc = np.round((df_train['Credit_Product'].value_counts()[1]/len(df_train))*100,1)\n",
    "no_perc = np.round((df_train['Credit_Product'].value_counts()[0]/len(df_train))*100,1)\n",
    "yes_perc_Islead = np.round((df_train.groupby('Credit_Product')['Is_Lead'].sum()[1]/(df_train['Is_Lead'].value_counts()[1]))*100,1)\n",
    "no_perc_Islead = np.round((df_train.groupby('Credit_Product')['Is_Lead'].sum()[0]/(df_train['Is_Lead'].value_counts()[1]))*100,1)"
   ]
  },
  {
   "cell_type": "code",
   "execution_count": 35,
   "metadata": {},
   "outputs": [
    {
     "data": {
      "text/plain": [
       "<Figure size 576x576 with 0 Axes>"
      ]
     },
     "execution_count": 35,
     "metadata": {},
     "output_type": "execute_result"
    },
    {
     "data": {
      "text/plain": [
       "<Figure size 576x576 with 0 Axes>"
      ]
     },
     "metadata": {},
     "output_type": "display_data"
    }
   ],
   "source": [
    "                          \n",
    "plt.figure(figsize=(8,8))"
   ]
  },
  {
   "cell_type": "code",
   "execution_count": 36,
   "metadata": {},
   "outputs": [
    {
     "data": {
      "image/png": "[encoded data removed]",
      "text/plain": [
       "<Figure size 432x288 with 1 Axes>"
      ]
     },
     "metadata": {
      "needs_background": "light"
     },
     "output_type": "display_data"
    }
   ],
   "source": [
    "  \n",
    "# Defining the values for x-axis, y-axis\n",
    "# and from which datafarme the values are to be picked\n",
    "plots = sns.countplot('Credit_Product',hue = 'Is_Lead',data=df_train, palette=\"Blues\")\n",
    "  \n",
    "# Iterrating over the bars one-by-one\n",
    "for bar in plots.patches:\n",
    "    \n",
    "    plots.annotate(format(bar.get_height(), '.2f'), \n",
    "                   (bar.get_x() + bar.get_width() / 2, \n",
    "                    bar.get_height()), ha='center', va='center',\n",
    "                   size=15, xytext=(0, 8),\n",
    "                   textcoords='offset points')\n",
    "    plots.annotate(str(no_perc)+\" %\", xy=(-0.3, 15000), xytext=(-0.4, 8000), size=15)\n",
    "    plots.annotate(str(yes_perc)+\" %\", xy=(0.7, 15000), xytext=(0.7, 8000), size=15)\n",
    "    plots.annotate(str(no_perc_Islead)+\" %\", xy=(-0.3, 15000), xytext=(0.1, 8000), size=15)\n",
    "    plots.annotate(str(yes_perc_Islead)+\" %\", xy=(0.7, 15000), xytext=(1.1, 8000), size=15)\n",
    "  \n",
    "\n",
    "  \n",
    "# Setting the title for the graph\n",
    "plt.title('COUNT OF CREDIT PRODUCT', size=14)\n",
    "  \n",
    "# Fianlly showing the plot\n",
    "plt.show()"
   ]
  },
  {
   "cell_type": "code",
   "execution_count": 37,
   "metadata": {},
   "outputs": [
    {
     "data": {
      "text/plain": [
       "count    216400.000000\n",
       "mean         42.807315\n",
       "std          14.850996\n",
       "min          23.000000\n",
       "25%          29.000000\n",
       "50%          41.000000\n",
       "75%          53.000000\n",
       "max          85.000000\n",
       "Name: Age, dtype: float64"
      ]
     },
     "execution_count": 37,
     "metadata": {},
     "output_type": "execute_result"
    }
   ],
   "source": [
    "df_train['Age'].describe()"
   ]
  },
  {
   "cell_type": "code",
   "execution_count": 38,
   "metadata": {},
   "outputs": [
    {
     "data": {
      "text/plain": [
       "<matplotlib.axes._subplots.AxesSubplot at 0x1dcf2a48408>"
      ]
     },
     "execution_count": 38,
     "metadata": {},
     "output_type": "execute_result"
    },
    {
     "data": {
      "image/png": "[encoded data removed]",
      "text/plain": [
       "<Figure size 432x288 with 1 Axes>"
      ]
     },
     "metadata": {
      "needs_background": "light"
     },
     "output_type": "display_data"
    }
   ],
   "source": [
    "sns.boxplot('Age',hue='Is_Lead',data=df_train)"
   ]
  },
  {
   "cell_type": "code",
   "execution_count": 39,
   "metadata": {},
   "outputs": [
    {
     "data": {
      "text/plain": [
       "<matplotlib.axes._subplots.AxesSubplot at 0x1dcf2e05c88>"
      ]
     },
     "execution_count": 39,
     "metadata": {},
     "output_type": "execute_result"
    },
    {
     "data": {
      "image/png": "[encoded data removed]",
      "text/plain": [
       "<Figure size 432x288 with 1 Axes>"
      ]
     },
     "metadata": {
      "needs_background": "light"
     },
     "output_type": "display_data"
    }
   ],
   "source": [
    "sns.scatterplot(x='Age',y='Vintage',hue='Is_Lead',data=df_train)"
   ]
  },
  {
   "cell_type": "code",
   "execution_count": 40,
   "metadata": {},
   "outputs": [],
   "source": [
    "Channelcode_enc = pd.get_dummies(df_train['Channel_Code'], prefix='Channel_Code',drop_first=True)\n",
    "df_train_final = pd.concat([df_train,Channelcode_enc],axis=1)\n",
    "\n",
    "Channelcode_enc_test = pd.get_dummies(df_test['Channel_Code'], prefix='Channel_Code',drop_first=True)\n",
    "df_test_final = pd.concat([df_test,Channelcode_enc_test],axis=1)"
   ]
  },
  {
   "cell_type": "code",
   "execution_count": 41,
   "metadata": {},
   "outputs": [
    {
     "data": {
      "text/html": [
       "<div>\n",
       "<style scoped>\n",
       "    .dataframe tbody tr th:only-of-type {\n",
       "        vertical-align: middle;\n",
       "    }\n",
       "\n",
       "    .dataframe tbody tr th {\n",
       "        vertical-align: top;\n",
       "    }\n",
       "\n",
       "    .dataframe thead th {\n",
       "        text-align: right;\n",
       "    }\n",
       "</style>\n",
       "<table border=\"1\" class=\"dataframe\">\n",
       "  <thead>\n",
       "    <tr style=\"text-align: right;\">\n",
       "      <th></th>\n",
       "      <th>ID</th>\n",
       "      <th>Gender</th>\n",
       "      <th>Age</th>\n",
       "      <th>Region_Code</th>\n",
       "      <th>Occupation</th>\n",
       "      <th>Channel_Code</th>\n",
       "      <th>Vintage</th>\n",
       "      <th>Credit_Product</th>\n",
       "      <th>Avg_Account_Balance</th>\n",
       "      <th>Is_Active</th>\n",
       "      <th>Is_Lead</th>\n",
       "      <th>Channel_Code_X2</th>\n",
       "      <th>Channel_Code_X3</th>\n",
       "      <th>Channel_Code_X4</th>\n",
       "    </tr>\n",
       "  </thead>\n",
       "  <tbody>\n",
       "    <tr>\n",
       "      <th>0</th>\n",
       "      <td>NNVBBKZB</td>\n",
       "      <td>0</td>\n",
       "      <td>73</td>\n",
       "      <td>RG268</td>\n",
       "      <td>Other</td>\n",
       "      <td>X3</td>\n",
       "      <td>43</td>\n",
       "      <td>0</td>\n",
       "      <td>1045696</td>\n",
       "      <td>0</td>\n",
       "      <td>0</td>\n",
       "      <td>0</td>\n",
       "      <td>1</td>\n",
       "      <td>0</td>\n",
       "    </tr>\n",
       "    <tr>\n",
       "      <th>1</th>\n",
       "      <td>IDD62UNG</td>\n",
       "      <td>0</td>\n",
       "      <td>30</td>\n",
       "      <td>RG277</td>\n",
       "      <td>Salaried</td>\n",
       "      <td>X1</td>\n",
       "      <td>32</td>\n",
       "      <td>0</td>\n",
       "      <td>581988</td>\n",
       "      <td>0</td>\n",
       "      <td>0</td>\n",
       "      <td>0</td>\n",
       "      <td>0</td>\n",
       "      <td>0</td>\n",
       "    </tr>\n",
       "    <tr>\n",
       "      <th>2</th>\n",
       "      <td>HD3DSEMC</td>\n",
       "      <td>0</td>\n",
       "      <td>56</td>\n",
       "      <td>RG268</td>\n",
       "      <td>Self_Employed</td>\n",
       "      <td>X3</td>\n",
       "      <td>26</td>\n",
       "      <td>0</td>\n",
       "      <td>1484315</td>\n",
       "      <td>1</td>\n",
       "      <td>0</td>\n",
       "      <td>0</td>\n",
       "      <td>1</td>\n",
       "      <td>0</td>\n",
       "    </tr>\n",
       "    <tr>\n",
       "      <th>3</th>\n",
       "      <td>BF3NC7KV</td>\n",
       "      <td>1</td>\n",
       "      <td>34</td>\n",
       "      <td>RG270</td>\n",
       "      <td>Salaried</td>\n",
       "      <td>X1</td>\n",
       "      <td>19</td>\n",
       "      <td>0</td>\n",
       "      <td>470454</td>\n",
       "      <td>0</td>\n",
       "      <td>0</td>\n",
       "      <td>0</td>\n",
       "      <td>0</td>\n",
       "      <td>0</td>\n",
       "    </tr>\n",
       "    <tr>\n",
       "      <th>4</th>\n",
       "      <td>TEASRWXV</td>\n",
       "      <td>0</td>\n",
       "      <td>30</td>\n",
       "      <td>RG282</td>\n",
       "      <td>Salaried</td>\n",
       "      <td>X1</td>\n",
       "      <td>33</td>\n",
       "      <td>0</td>\n",
       "      <td>886787</td>\n",
       "      <td>0</td>\n",
       "      <td>0</td>\n",
       "      <td>0</td>\n",
       "      <td>0</td>\n",
       "      <td>0</td>\n",
       "    </tr>\n",
       "    <tr>\n",
       "      <th>...</th>\n",
       "      <td>...</td>\n",
       "      <td>...</td>\n",
       "      <td>...</td>\n",
       "      <td>...</td>\n",
       "      <td>...</td>\n",
       "      <td>...</td>\n",
       "      <td>...</td>\n",
       "      <td>...</td>\n",
       "      <td>...</td>\n",
       "      <td>...</td>\n",
       "      <td>...</td>\n",
       "      <td>...</td>\n",
       "      <td>...</td>\n",
       "      <td>...</td>\n",
       "    </tr>\n",
       "    <tr>\n",
       "      <th>245719</th>\n",
       "      <td>DQ48DATH</td>\n",
       "      <td>0</td>\n",
       "      <td>38</td>\n",
       "      <td>RG280</td>\n",
       "      <td>Salaried</td>\n",
       "      <td>X2</td>\n",
       "      <td>13</td>\n",
       "      <td>1</td>\n",
       "      <td>354665</td>\n",
       "      <td>0</td>\n",
       "      <td>0</td>\n",
       "      <td>1</td>\n",
       "      <td>0</td>\n",
       "      <td>0</td>\n",
       "    </tr>\n",
       "    <tr>\n",
       "      <th>245721</th>\n",
       "      <td>HFNB7JY8</td>\n",
       "      <td>1</td>\n",
       "      <td>27</td>\n",
       "      <td>RG268</td>\n",
       "      <td>Salaried</td>\n",
       "      <td>X1</td>\n",
       "      <td>15</td>\n",
       "      <td>0</td>\n",
       "      <td>862952</td>\n",
       "      <td>1</td>\n",
       "      <td>0</td>\n",
       "      <td>0</td>\n",
       "      <td>0</td>\n",
       "      <td>0</td>\n",
       "    </tr>\n",
       "    <tr>\n",
       "      <th>245722</th>\n",
       "      <td>GEHAUCWT</td>\n",
       "      <td>0</td>\n",
       "      <td>26</td>\n",
       "      <td>RG281</td>\n",
       "      <td>Salaried</td>\n",
       "      <td>X1</td>\n",
       "      <td>13</td>\n",
       "      <td>0</td>\n",
       "      <td>670659</td>\n",
       "      <td>0</td>\n",
       "      <td>0</td>\n",
       "      <td>0</td>\n",
       "      <td>0</td>\n",
       "      <td>0</td>\n",
       "    </tr>\n",
       "    <tr>\n",
       "      <th>245723</th>\n",
       "      <td>GE7V8SAH</td>\n",
       "      <td>0</td>\n",
       "      <td>28</td>\n",
       "      <td>RG273</td>\n",
       "      <td>Salaried</td>\n",
       "      <td>X1</td>\n",
       "      <td>31</td>\n",
       "      <td>0</td>\n",
       "      <td>407504</td>\n",
       "      <td>0</td>\n",
       "      <td>0</td>\n",
       "      <td>0</td>\n",
       "      <td>0</td>\n",
       "      <td>0</td>\n",
       "    </tr>\n",
       "    <tr>\n",
       "      <th>245724</th>\n",
       "      <td>BOCZSWLJ</td>\n",
       "      <td>1</td>\n",
       "      <td>29</td>\n",
       "      <td>RG269</td>\n",
       "      <td>Salaried</td>\n",
       "      <td>X1</td>\n",
       "      <td>21</td>\n",
       "      <td>0</td>\n",
       "      <td>1129276</td>\n",
       "      <td>0</td>\n",
       "      <td>0</td>\n",
       "      <td>0</td>\n",
       "      <td>0</td>\n",
       "      <td>0</td>\n",
       "    </tr>\n",
       "  </tbody>\n",
       "</table>\n",
       "<p>216400 rows × 14 columns</p>\n",
       "</div>"
      ],
      "text/plain": [
       "              ID  Gender  Age Region_Code     Occupation Channel_Code  \\\n",
       "0       NNVBBKZB       0   73       RG268          Other           X3   \n",
       "1       IDD62UNG       0   30       RG277       Salaried           X1   \n",
       "2       HD3DSEMC       0   56       RG268  Self_Employed           X3   \n",
       "3       BF3NC7KV       1   34       RG270       Salaried           X1   \n",
       "4       TEASRWXV       0   30       RG282       Salaried           X1   \n",
       "...          ...     ...  ...         ...            ...          ...   \n",
       "245719  DQ48DATH       0   38       RG280       Salaried           X2   \n",
       "245721  HFNB7JY8       1   27       RG268       Salaried           X1   \n",
       "245722  GEHAUCWT       0   26       RG281       Salaried           X1   \n",
       "245723  GE7V8SAH       0   28       RG273       Salaried           X1   \n",
       "245724  BOCZSWLJ       1   29       RG269       Salaried           X1   \n",
       "\n",
       "        Vintage  Credit_Product  Avg_Account_Balance  Is_Active  Is_Lead  \\\n",
       "0            43               0              1045696          0        0   \n",
       "1            32               0               581988          0        0   \n",
       "2            26               0              1484315          1        0   \n",
       "3            19               0               470454          0        0   \n",
       "4            33               0               886787          0        0   \n",
       "...         ...             ...                  ...        ...      ...   \n",
       "245719       13               1               354665          0        0   \n",
       "245721       15               0               862952          1        0   \n",
       "245722       13               0               670659          0        0   \n",
       "245723       31               0               407504          0        0   \n",
       "245724       21               0              1129276          0        0   \n",
       "\n",
       "        Channel_Code_X2  Channel_Code_X3  Channel_Code_X4  \n",
       "0                     0                1                0  \n",
       "1                     0                0                0  \n",
       "2                     0                1                0  \n",
       "3                     0                0                0  \n",
       "4                     0                0                0  \n",
       "...                 ...              ...              ...  \n",
       "245719                1                0                0  \n",
       "245721                0                0                0  \n",
       "245722                0                0                0  \n",
       "245723                0                0                0  \n",
       "245724                0                0                0  \n",
       "\n",
       "[216400 rows x 14 columns]"
      ]
     },
     "execution_count": 41,
     "metadata": {},
     "output_type": "execute_result"
    }
   ],
   "source": [
    "df_train_final"
   ]
  },
  {
   "cell_type": "code",
   "execution_count": 42,
   "metadata": {},
   "outputs": [],
   "source": [
    "Occupation_enc = pd.get_dummies(df_train_final['Occupation'],prefix='Occupation',drop_first=True)\n",
    "df_train_final = pd.concat([df_train_final,Occupation_enc],axis=1)\n",
    "\n",
    "Occupation_enc_test = pd.get_dummies(df_test_final['Occupation'],prefix='Occupation',drop_first=True)\n",
    "df_test_final = pd.concat([df_test_final,Occupation_enc_test],axis=1)"
   ]
  },
  {
   "cell_type": "code",
   "execution_count": 43,
   "metadata": {},
   "outputs": [],
   "source": [
    "from sklearn.preprocessing import LabelEncoder\n",
    "le = LabelEncoder()\n",
    "\n",
    "df_train_final['Region_Code'] = le.fit_transform(df_train_final['Region_Code'])\n",
    "df_test_final['Region_Code'] = le.fit_transform(df_test_final['Region_Code'])"
   ]
  },
  {
   "cell_type": "code",
   "execution_count": 44,
   "metadata": {},
   "outputs": [
    {
     "data": {
      "text/html": [
       "<div>\n",
       "<style scoped>\n",
       "    .dataframe tbody tr th:only-of-type {\n",
       "        vertical-align: middle;\n",
       "    }\n",
       "\n",
       "    .dataframe tbody tr th {\n",
       "        vertical-align: top;\n",
       "    }\n",
       "\n",
       "    .dataframe thead th {\n",
       "        text-align: right;\n",
       "    }\n",
       "</style>\n",
       "<table border=\"1\" class=\"dataframe\">\n",
       "  <thead>\n",
       "    <tr style=\"text-align: right;\">\n",
       "      <th></th>\n",
       "      <th>ID</th>\n",
       "      <th>Gender</th>\n",
       "      <th>Age</th>\n",
       "      <th>Region_Code</th>\n",
       "      <th>Occupation</th>\n",
       "      <th>Channel_Code</th>\n",
       "      <th>Vintage</th>\n",
       "      <th>...</th>\n",
       "      <th>Is_Lead</th>\n",
       "      <th>Channel_Code_X2</th>\n",
       "      <th>Channel_Code_X3</th>\n",
       "      <th>Channel_Code_X4</th>\n",
       "      <th>Occupation_Other</th>\n",
       "      <th>Occupation_Salaried</th>\n",
       "      <th>Occupation_Self_Employed</th>\n",
       "    </tr>\n",
       "  </thead>\n",
       "  <tbody>\n",
       "    <tr>\n",
       "      <th>0</th>\n",
       "      <td>NNVBBKZB</td>\n",
       "      <td>0</td>\n",
       "      <td>73</td>\n",
       "      <td>18</td>\n",
       "      <td>Other</td>\n",
       "      <td>X3</td>\n",
       "      <td>43</td>\n",
       "      <td>...</td>\n",
       "      <td>0</td>\n",
       "      <td>0</td>\n",
       "      <td>1</td>\n",
       "      <td>0</td>\n",
       "      <td>1</td>\n",
       "      <td>0</td>\n",
       "      <td>0</td>\n",
       "    </tr>\n",
       "    <tr>\n",
       "      <th>1</th>\n",
       "      <td>IDD62UNG</td>\n",
       "      <td>0</td>\n",
       "      <td>30</td>\n",
       "      <td>27</td>\n",
       "      <td>Salaried</td>\n",
       "      <td>X1</td>\n",
       "      <td>32</td>\n",
       "      <td>...</td>\n",
       "      <td>0</td>\n",
       "      <td>0</td>\n",
       "      <td>0</td>\n",
       "      <td>0</td>\n",
       "      <td>0</td>\n",
       "      <td>1</td>\n",
       "      <td>0</td>\n",
       "    </tr>\n",
       "    <tr>\n",
       "      <th>2</th>\n",
       "      <td>HD3DSEMC</td>\n",
       "      <td>0</td>\n",
       "      <td>56</td>\n",
       "      <td>18</td>\n",
       "      <td>Self_Employed</td>\n",
       "      <td>X3</td>\n",
       "      <td>26</td>\n",
       "      <td>...</td>\n",
       "      <td>0</td>\n",
       "      <td>0</td>\n",
       "      <td>1</td>\n",
       "      <td>0</td>\n",
       "      <td>0</td>\n",
       "      <td>0</td>\n",
       "      <td>1</td>\n",
       "    </tr>\n",
       "    <tr>\n",
       "      <th>3</th>\n",
       "      <td>BF3NC7KV</td>\n",
       "      <td>1</td>\n",
       "      <td>34</td>\n",
       "      <td>20</td>\n",
       "      <td>Salaried</td>\n",
       "      <td>X1</td>\n",
       "      <td>19</td>\n",
       "      <td>...</td>\n",
       "      <td>0</td>\n",
       "      <td>0</td>\n",
       "      <td>0</td>\n",
       "      <td>0</td>\n",
       "      <td>0</td>\n",
       "      <td>1</td>\n",
       "      <td>0</td>\n",
       "    </tr>\n",
       "    <tr>\n",
       "      <th>4</th>\n",
       "      <td>TEASRWXV</td>\n",
       "      <td>0</td>\n",
       "      <td>30</td>\n",
       "      <td>32</td>\n",
       "      <td>Salaried</td>\n",
       "      <td>X1</td>\n",
       "      <td>33</td>\n",
       "      <td>...</td>\n",
       "      <td>0</td>\n",
       "      <td>0</td>\n",
       "      <td>0</td>\n",
       "      <td>0</td>\n",
       "      <td>0</td>\n",
       "      <td>1</td>\n",
       "      <td>0</td>\n",
       "    </tr>\n",
       "  </tbody>\n",
       "</table>\n",
       "<p>5 rows × 17 columns</p>\n",
       "</div>"
      ],
      "text/plain": [
       "         ID  Gender  Age  Region_Code     Occupation Channel_Code  Vintage  \\\n",
       "0  NNVBBKZB       0   73           18          Other           X3       43   \n",
       "1  IDD62UNG       0   30           27       Salaried           X1       32   \n",
       "2  HD3DSEMC       0   56           18  Self_Employed           X3       26   \n",
       "3  BF3NC7KV       1   34           20       Salaried           X1       19   \n",
       "4  TEASRWXV       0   30           32       Salaried           X1       33   \n",
       "\n",
       "   ...  Is_Lead  Channel_Code_X2  Channel_Code_X3  Channel_Code_X4  \\\n",
       "0  ...        0                0                1                0   \n",
       "1  ...        0                0                0                0   \n",
       "2  ...        0                0                1                0   \n",
       "3  ...        0                0                0                0   \n",
       "4  ...        0                0                0                0   \n",
       "\n",
       "   Occupation_Other  Occupation_Salaried  Occupation_Self_Employed  \n",
       "0                 1                    0                         0  \n",
       "1                 0                    1                         0  \n",
       "2                 0                    0                         1  \n",
       "3                 0                    1                         0  \n",
       "4                 0                    1                         0  \n",
       "\n",
       "[5 rows x 17 columns]"
      ]
     },
     "execution_count": 44,
     "metadata": {},
     "output_type": "execute_result"
    }
   ],
   "source": [
    "df_train_final.head()"
   ]
  },
  {
   "cell_type": "code",
   "execution_count": 45,
   "metadata": {},
   "outputs": [
    {
     "data": {
      "text/html": [
       "<div>\n",
       "<style scoped>\n",
       "    .dataframe tbody tr th:only-of-type {\n",
       "        vertical-align: middle;\n",
       "    }\n",
       "\n",
       "    .dataframe tbody tr th {\n",
       "        vertical-align: top;\n",
       "    }\n",
       "\n",
       "    .dataframe thead th {\n",
       "        text-align: right;\n",
       "    }\n",
       "</style>\n",
       "<table border=\"1\" class=\"dataframe\">\n",
       "  <thead>\n",
       "    <tr style=\"text-align: right;\">\n",
       "      <th></th>\n",
       "      <th>ID</th>\n",
       "      <th>Gender</th>\n",
       "      <th>Age</th>\n",
       "      <th>Region_Code</th>\n",
       "      <th>Occupation</th>\n",
       "      <th>Channel_Code</th>\n",
       "      <th>Vintage</th>\n",
       "      <th>...</th>\n",
       "      <th>Is_Active</th>\n",
       "      <th>Channel_Code_X2</th>\n",
       "      <th>Channel_Code_X3</th>\n",
       "      <th>Channel_Code_X4</th>\n",
       "      <th>Occupation_Other</th>\n",
       "      <th>Occupation_Salaried</th>\n",
       "      <th>Occupation_Self_Employed</th>\n",
       "    </tr>\n",
       "  </thead>\n",
       "  <tbody>\n",
       "    <tr>\n",
       "      <th>0</th>\n",
       "      <td>VBENBARO</td>\n",
       "      <td>1</td>\n",
       "      <td>29</td>\n",
       "      <td>4</td>\n",
       "      <td>Other</td>\n",
       "      <td>X1</td>\n",
       "      <td>25</td>\n",
       "      <td>...</td>\n",
       "      <td>0</td>\n",
       "      <td>0</td>\n",
       "      <td>0</td>\n",
       "      <td>0</td>\n",
       "      <td>1</td>\n",
       "      <td>0</td>\n",
       "      <td>0</td>\n",
       "    </tr>\n",
       "    <tr>\n",
       "      <th>1</th>\n",
       "      <td>CCMEWNKY</td>\n",
       "      <td>1</td>\n",
       "      <td>43</td>\n",
       "      <td>18</td>\n",
       "      <td>Other</td>\n",
       "      <td>X2</td>\n",
       "      <td>49</td>\n",
       "      <td>...</td>\n",
       "      <td>0</td>\n",
       "      <td>1</td>\n",
       "      <td>0</td>\n",
       "      <td>0</td>\n",
       "      <td>1</td>\n",
       "      <td>0</td>\n",
       "      <td>0</td>\n",
       "    </tr>\n",
       "    <tr>\n",
       "      <th>2</th>\n",
       "      <td>VK3KGA9M</td>\n",
       "      <td>1</td>\n",
       "      <td>31</td>\n",
       "      <td>20</td>\n",
       "      <td>Salaried</td>\n",
       "      <td>X1</td>\n",
       "      <td>14</td>\n",
       "      <td>...</td>\n",
       "      <td>0</td>\n",
       "      <td>0</td>\n",
       "      <td>0</td>\n",
       "      <td>0</td>\n",
       "      <td>0</td>\n",
       "      <td>1</td>\n",
       "      <td>0</td>\n",
       "    </tr>\n",
       "    <tr>\n",
       "      <th>3</th>\n",
       "      <td>TT8RPZVC</td>\n",
       "      <td>1</td>\n",
       "      <td>29</td>\n",
       "      <td>22</td>\n",
       "      <td>Other</td>\n",
       "      <td>X1</td>\n",
       "      <td>33</td>\n",
       "      <td>...</td>\n",
       "      <td>0</td>\n",
       "      <td>0</td>\n",
       "      <td>0</td>\n",
       "      <td>0</td>\n",
       "      <td>1</td>\n",
       "      <td>0</td>\n",
       "      <td>0</td>\n",
       "    </tr>\n",
       "    <tr>\n",
       "      <th>4</th>\n",
       "      <td>SHQZEYTZ</td>\n",
       "      <td>0</td>\n",
       "      <td>29</td>\n",
       "      <td>20</td>\n",
       "      <td>Other</td>\n",
       "      <td>X1</td>\n",
       "      <td>19</td>\n",
       "      <td>...</td>\n",
       "      <td>0</td>\n",
       "      <td>0</td>\n",
       "      <td>0</td>\n",
       "      <td>0</td>\n",
       "      <td>1</td>\n",
       "      <td>0</td>\n",
       "      <td>0</td>\n",
       "    </tr>\n",
       "  </tbody>\n",
       "</table>\n",
       "<p>5 rows × 16 columns</p>\n",
       "</div>"
      ],
      "text/plain": [
       "         ID  Gender  Age  Region_Code Occupation Channel_Code  Vintage  ...  \\\n",
       "0  VBENBARO       1   29            4      Other           X1       25  ...   \n",
       "1  CCMEWNKY       1   43           18      Other           X2       49  ...   \n",
       "2  VK3KGA9M       1   31           20   Salaried           X1       14  ...   \n",
       "3  TT8RPZVC       1   29           22      Other           X1       33  ...   \n",
       "4  SHQZEYTZ       0   29           20      Other           X1       19  ...   \n",
       "\n",
       "   Is_Active  Channel_Code_X2  Channel_Code_X3  Channel_Code_X4  \\\n",
       "0          0                0                0                0   \n",
       "1          0                1                0                0   \n",
       "2          0                0                0                0   \n",
       "3          0                0                0                0   \n",
       "4          0                0                0                0   \n",
       "\n",
       "   Occupation_Other  Occupation_Salaried  Occupation_Self_Employed  \n",
       "0                 1                    0                         0  \n",
       "1                 1                    0                         0  \n",
       "2                 0                    1                         0  \n",
       "3                 1                    0                         0  \n",
       "4                 1                    0                         0  \n",
       "\n",
       "[5 rows x 16 columns]"
      ]
     },
     "execution_count": 45,
     "metadata": {},
     "output_type": "execute_result"
    }
   ],
   "source": [
    "df_test_final.head()"
   ]
  },
  {
   "cell_type": "code",
   "execution_count": 46,
   "metadata": {},
   "outputs": [
    {
     "data": {
      "text/html": [
       "<div>\n",
       "<style scoped>\n",
       "    .dataframe tbody tr th:only-of-type {\n",
       "        vertical-align: middle;\n",
       "    }\n",
       "\n",
       "    .dataframe tbody tr th {\n",
       "        vertical-align: top;\n",
       "    }\n",
       "\n",
       "    .dataframe thead th {\n",
       "        text-align: right;\n",
       "    }\n",
       "</style>\n",
       "<table border=\"1\" class=\"dataframe\">\n",
       "  <thead>\n",
       "    <tr style=\"text-align: right;\">\n",
       "      <th></th>\n",
       "      <th>Gender</th>\n",
       "      <th>Age</th>\n",
       "      <th>Vintage</th>\n",
       "      <th>Credit_Product</th>\n",
       "      <th>Avg_Account_Balance</th>\n",
       "      <th>Is_Active</th>\n",
       "      <th>Is_Lead</th>\n",
       "      <th>Channel_Code_X2</th>\n",
       "      <th>Channel_Code_X3</th>\n",
       "      <th>Channel_Code_X4</th>\n",
       "      <th>Occupation_Other</th>\n",
       "      <th>Occupation_Salaried</th>\n",
       "      <th>Occupation_Self_Employed</th>\n",
       "    </tr>\n",
       "  </thead>\n",
       "  <tbody>\n",
       "    <tr>\n",
       "      <th>0</th>\n",
       "      <td>0</td>\n",
       "      <td>73</td>\n",
       "      <td>43</td>\n",
       "      <td>0</td>\n",
       "      <td>1045696</td>\n",
       "      <td>0</td>\n",
       "      <td>0</td>\n",
       "      <td>0</td>\n",
       "      <td>1</td>\n",
       "      <td>0</td>\n",
       "      <td>1</td>\n",
       "      <td>0</td>\n",
       "      <td>0</td>\n",
       "    </tr>\n",
       "    <tr>\n",
       "      <th>1</th>\n",
       "      <td>0</td>\n",
       "      <td>30</td>\n",
       "      <td>32</td>\n",
       "      <td>0</td>\n",
       "      <td>581988</td>\n",
       "      <td>0</td>\n",
       "      <td>0</td>\n",
       "      <td>0</td>\n",
       "      <td>0</td>\n",
       "      <td>0</td>\n",
       "      <td>0</td>\n",
       "      <td>1</td>\n",
       "      <td>0</td>\n",
       "    </tr>\n",
       "    <tr>\n",
       "      <th>2</th>\n",
       "      <td>0</td>\n",
       "      <td>56</td>\n",
       "      <td>26</td>\n",
       "      <td>0</td>\n",
       "      <td>1484315</td>\n",
       "      <td>1</td>\n",
       "      <td>0</td>\n",
       "      <td>0</td>\n",
       "      <td>1</td>\n",
       "      <td>0</td>\n",
       "      <td>0</td>\n",
       "      <td>0</td>\n",
       "      <td>1</td>\n",
       "    </tr>\n",
       "    <tr>\n",
       "      <th>3</th>\n",
       "      <td>1</td>\n",
       "      <td>34</td>\n",
       "      <td>19</td>\n",
       "      <td>0</td>\n",
       "      <td>470454</td>\n",
       "      <td>0</td>\n",
       "      <td>0</td>\n",
       "      <td>0</td>\n",
       "      <td>0</td>\n",
       "      <td>0</td>\n",
       "      <td>0</td>\n",
       "      <td>1</td>\n",
       "      <td>0</td>\n",
       "    </tr>\n",
       "    <tr>\n",
       "      <th>4</th>\n",
       "      <td>0</td>\n",
       "      <td>30</td>\n",
       "      <td>33</td>\n",
       "      <td>0</td>\n",
       "      <td>886787</td>\n",
       "      <td>0</td>\n",
       "      <td>0</td>\n",
       "      <td>0</td>\n",
       "      <td>0</td>\n",
       "      <td>0</td>\n",
       "      <td>0</td>\n",
       "      <td>1</td>\n",
       "      <td>0</td>\n",
       "    </tr>\n",
       "  </tbody>\n",
       "</table>\n",
       "</div>"
      ],
      "text/plain": [
       "   Gender  Age  Vintage  Credit_Product  Avg_Account_Balance  Is_Active  \\\n",
       "0       0   73       43               0              1045696          0   \n",
       "1       0   30       32               0               581988          0   \n",
       "2       0   56       26               0              1484315          1   \n",
       "3       1   34       19               0               470454          0   \n",
       "4       0   30       33               0               886787          0   \n",
       "\n",
       "   Is_Lead  Channel_Code_X2  Channel_Code_X3  Channel_Code_X4  \\\n",
       "0        0                0                1                0   \n",
       "1        0                0                0                0   \n",
       "2        0                0                1                0   \n",
       "3        0                0                0                0   \n",
       "4        0                0                0                0   \n",
       "\n",
       "   Occupation_Other  Occupation_Salaried  Occupation_Self_Employed  \n",
       "0                 1                    0                         0  \n",
       "1                 0                    1                         0  \n",
       "2                 0                    0                         1  \n",
       "3                 0                    1                         0  \n",
       "4                 0                    1                         0  "
      ]
     },
     "execution_count": 46,
     "metadata": {},
     "output_type": "execute_result"
    }
   ],
   "source": [
    "df_train_final = df_train_final.drop(['ID','Channel_Code','Occupation','Region_Code'],axis=1)\n",
    "\n",
    "df_test_final = df_test_final.drop(['ID','Channel_Code','Occupation','Region_Code'],axis=1)\n",
    "\n",
    "df_train_final.head()"
   ]
  },
  {
   "cell_type": "code",
   "execution_count": 47,
   "metadata": {},
   "outputs": [
    {
     "data": {
      "text/html": [
       "<div>\n",
       "<style scoped>\n",
       "    .dataframe tbody tr th:only-of-type {\n",
       "        vertical-align: middle;\n",
       "    }\n",
       "\n",
       "    .dataframe tbody tr th {\n",
       "        vertical-align: top;\n",
       "    }\n",
       "\n",
       "    .dataframe thead th {\n",
       "        text-align: right;\n",
       "    }\n",
       "</style>\n",
       "<table border=\"1\" class=\"dataframe\">\n",
       "  <thead>\n",
       "    <tr style=\"text-align: right;\">\n",
       "      <th></th>\n",
       "      <th>Gender</th>\n",
       "      <th>Age</th>\n",
       "      <th>Vintage</th>\n",
       "      <th>Credit_Product</th>\n",
       "      <th>Avg_Account_Balance</th>\n",
       "      <th>Is_Active</th>\n",
       "      <th>Channel_Code_X2</th>\n",
       "      <th>Channel_Code_X3</th>\n",
       "      <th>Channel_Code_X4</th>\n",
       "      <th>Occupation_Other</th>\n",
       "      <th>Occupation_Salaried</th>\n",
       "      <th>Occupation_Self_Employed</th>\n",
       "    </tr>\n",
       "  </thead>\n",
       "  <tbody>\n",
       "    <tr>\n",
       "      <th>0</th>\n",
       "      <td>1</td>\n",
       "      <td>29</td>\n",
       "      <td>25</td>\n",
       "      <td>1</td>\n",
       "      <td>742366</td>\n",
       "      <td>0</td>\n",
       "      <td>0</td>\n",
       "      <td>0</td>\n",
       "      <td>0</td>\n",
       "      <td>1</td>\n",
       "      <td>0</td>\n",
       "      <td>0</td>\n",
       "    </tr>\n",
       "    <tr>\n",
       "      <th>1</th>\n",
       "      <td>1</td>\n",
       "      <td>43</td>\n",
       "      <td>49</td>\n",
       "      <td>0</td>\n",
       "      <td>925537</td>\n",
       "      <td>0</td>\n",
       "      <td>1</td>\n",
       "      <td>0</td>\n",
       "      <td>0</td>\n",
       "      <td>1</td>\n",
       "      <td>0</td>\n",
       "      <td>0</td>\n",
       "    </tr>\n",
       "    <tr>\n",
       "      <th>2</th>\n",
       "      <td>1</td>\n",
       "      <td>31</td>\n",
       "      <td>14</td>\n",
       "      <td>0</td>\n",
       "      <td>215949</td>\n",
       "      <td>0</td>\n",
       "      <td>0</td>\n",
       "      <td>0</td>\n",
       "      <td>0</td>\n",
       "      <td>0</td>\n",
       "      <td>1</td>\n",
       "      <td>0</td>\n",
       "    </tr>\n",
       "    <tr>\n",
       "      <th>3</th>\n",
       "      <td>1</td>\n",
       "      <td>29</td>\n",
       "      <td>33</td>\n",
       "      <td>0</td>\n",
       "      <td>868070</td>\n",
       "      <td>0</td>\n",
       "      <td>0</td>\n",
       "      <td>0</td>\n",
       "      <td>0</td>\n",
       "      <td>1</td>\n",
       "      <td>0</td>\n",
       "      <td>0</td>\n",
       "    </tr>\n",
       "    <tr>\n",
       "      <th>4</th>\n",
       "      <td>0</td>\n",
       "      <td>29</td>\n",
       "      <td>19</td>\n",
       "      <td>0</td>\n",
       "      <td>657087</td>\n",
       "      <td>0</td>\n",
       "      <td>0</td>\n",
       "      <td>0</td>\n",
       "      <td>0</td>\n",
       "      <td>1</td>\n",
       "      <td>0</td>\n",
       "      <td>0</td>\n",
       "    </tr>\n",
       "  </tbody>\n",
       "</table>\n",
       "</div>"
      ],
      "text/plain": [
       "   Gender  Age  Vintage  Credit_Product  Avg_Account_Balance  Is_Active  \\\n",
       "0       1   29       25               1               742366          0   \n",
       "1       1   43       49               0               925537          0   \n",
       "2       1   31       14               0               215949          0   \n",
       "3       1   29       33               0               868070          0   \n",
       "4       0   29       19               0               657087          0   \n",
       "\n",
       "   Channel_Code_X2  Channel_Code_X3  Channel_Code_X4  Occupation_Other  \\\n",
       "0                0                0                0                 1   \n",
       "1                1                0                0                 1   \n",
       "2                0                0                0                 0   \n",
       "3                0                0                0                 1   \n",
       "4                0                0                0                 1   \n",
       "\n",
       "   Occupation_Salaried  Occupation_Self_Employed  \n",
       "0                    0                         0  \n",
       "1                    0                         0  \n",
       "2                    1                         0  \n",
       "3                    0                         0  \n",
       "4                    0                         0  "
      ]
     },
     "execution_count": 47,
     "metadata": {},
     "output_type": "execute_result"
    }
   ],
   "source": [
    "df_test_final.head()"
   ]
  },
  {
   "cell_type": "code",
   "execution_count": 48,
   "metadata": {},
   "outputs": [
    {
     "data": {
      "text/plain": [
       "Index(['Gender', 'Age', 'Vintage', 'Credit_Product', 'Avg_Account_Balance',\n",
       "       'Is_Active', 'Channel_Code_X2', 'Channel_Code_X3', 'Channel_Code_X4',\n",
       "       'Occupation_Other', 'Occupation_Salaried', 'Occupation_Self_Employed'],\n",
       "      dtype='object')"
      ]
     },
     "execution_count": 48,
     "metadata": {},
     "output_type": "execute_result"
    }
   ],
   "source": [
    "df_test_final.columns"
   ]
  },
  {
   "cell_type": "code",
   "execution_count": 49,
   "metadata": {},
   "outputs": [
    {
     "data": {
      "text/plain": [
       "Index(['Gender', 'Age', 'Vintage', 'Credit_Product', 'Avg_Account_Balance',\n",
       "       'Is_Active', 'Is_Lead', 'Channel_Code_X2', 'Channel_Code_X3',\n",
       "       'Channel_Code_X4', 'Occupation_Other', 'Occupation_Salaried',\n",
       "       'Occupation_Self_Employed'],\n",
       "      dtype='object')"
      ]
     },
     "execution_count": 49,
     "metadata": {},
     "output_type": "execute_result"
    }
   ],
   "source": [
    "df_train_final.columns"
   ]
  },
  {
   "cell_type": "code",
   "execution_count": 50,
   "metadata": {},
   "outputs": [
    {
     "data": {
      "text/html": [
       "<div>\n",
       "<style scoped>\n",
       "    .dataframe tbody tr th:only-of-type {\n",
       "        vertical-align: middle;\n",
       "    }\n",
       "\n",
       "    .dataframe tbody tr th {\n",
       "        vertical-align: top;\n",
       "    }\n",
       "\n",
       "    .dataframe thead th {\n",
       "        text-align: right;\n",
       "    }\n",
       "</style>\n",
       "<table border=\"1\" class=\"dataframe\">\n",
       "  <thead>\n",
       "    <tr style=\"text-align: right;\">\n",
       "      <th></th>\n",
       "      <th>Gender</th>\n",
       "      <th>Age</th>\n",
       "      <th>Vintage</th>\n",
       "      <th>Credit_Product</th>\n",
       "      <th>Avg_Account_Balance</th>\n",
       "      <th>Is_Active</th>\n",
       "      <th>Is_Lead</th>\n",
       "      <th>Channel_Code_X2</th>\n",
       "      <th>Channel_Code_X3</th>\n",
       "      <th>Channel_Code_X4</th>\n",
       "      <th>Occupation_Other</th>\n",
       "      <th>Occupation_Salaried</th>\n",
       "      <th>Occupation_Self_Employed</th>\n",
       "    </tr>\n",
       "  </thead>\n",
       "  <tbody>\n",
       "    <tr>\n",
       "      <th>0</th>\n",
       "      <td>0.0</td>\n",
       "      <td>0.806452</td>\n",
       "      <td>0.281250</td>\n",
       "      <td>0.0</td>\n",
       "      <td>0.099205</td>\n",
       "      <td>0.0</td>\n",
       "      <td>0.0</td>\n",
       "      <td>0.0</td>\n",
       "      <td>1.0</td>\n",
       "      <td>0.0</td>\n",
       "      <td>1.0</td>\n",
       "      <td>0.0</td>\n",
       "      <td>0.0</td>\n",
       "    </tr>\n",
       "    <tr>\n",
       "      <th>1</th>\n",
       "      <td>0.0</td>\n",
       "      <td>0.112903</td>\n",
       "      <td>0.195312</td>\n",
       "      <td>0.0</td>\n",
       "      <td>0.054321</td>\n",
       "      <td>0.0</td>\n",
       "      <td>0.0</td>\n",
       "      <td>0.0</td>\n",
       "      <td>0.0</td>\n",
       "      <td>0.0</td>\n",
       "      <td>0.0</td>\n",
       "      <td>1.0</td>\n",
       "      <td>0.0</td>\n",
       "    </tr>\n",
       "    <tr>\n",
       "      <th>2</th>\n",
       "      <td>0.0</td>\n",
       "      <td>0.532258</td>\n",
       "      <td>0.148438</td>\n",
       "      <td>0.0</td>\n",
       "      <td>0.141660</td>\n",
       "      <td>1.0</td>\n",
       "      <td>0.0</td>\n",
       "      <td>0.0</td>\n",
       "      <td>1.0</td>\n",
       "      <td>0.0</td>\n",
       "      <td>0.0</td>\n",
       "      <td>0.0</td>\n",
       "      <td>1.0</td>\n",
       "    </tr>\n",
       "    <tr>\n",
       "      <th>3</th>\n",
       "      <td>1.0</td>\n",
       "      <td>0.177419</td>\n",
       "      <td>0.093750</td>\n",
       "      <td>0.0</td>\n",
       "      <td>0.043525</td>\n",
       "      <td>0.0</td>\n",
       "      <td>0.0</td>\n",
       "      <td>0.0</td>\n",
       "      <td>0.0</td>\n",
       "      <td>0.0</td>\n",
       "      <td>0.0</td>\n",
       "      <td>1.0</td>\n",
       "      <td>0.0</td>\n",
       "    </tr>\n",
       "    <tr>\n",
       "      <th>4</th>\n",
       "      <td>0.0</td>\n",
       "      <td>0.112903</td>\n",
       "      <td>0.203125</td>\n",
       "      <td>0.0</td>\n",
       "      <td>0.083823</td>\n",
       "      <td>0.0</td>\n",
       "      <td>0.0</td>\n",
       "      <td>0.0</td>\n",
       "      <td>0.0</td>\n",
       "      <td>0.0</td>\n",
       "      <td>0.0</td>\n",
       "      <td>1.0</td>\n",
       "      <td>0.0</td>\n",
       "    </tr>\n",
       "    <tr>\n",
       "      <th>...</th>\n",
       "      <td>...</td>\n",
       "      <td>...</td>\n",
       "      <td>...</td>\n",
       "      <td>...</td>\n",
       "      <td>...</td>\n",
       "      <td>...</td>\n",
       "      <td>...</td>\n",
       "      <td>...</td>\n",
       "      <td>...</td>\n",
       "      <td>...</td>\n",
       "      <td>...</td>\n",
       "      <td>...</td>\n",
       "      <td>...</td>\n",
       "    </tr>\n",
       "    <tr>\n",
       "      <th>216395</th>\n",
       "      <td>0.0</td>\n",
       "      <td>0.241935</td>\n",
       "      <td>0.046875</td>\n",
       "      <td>1.0</td>\n",
       "      <td>0.032317</td>\n",
       "      <td>0.0</td>\n",
       "      <td>0.0</td>\n",
       "      <td>1.0</td>\n",
       "      <td>0.0</td>\n",
       "      <td>0.0</td>\n",
       "      <td>0.0</td>\n",
       "      <td>1.0</td>\n",
       "      <td>0.0</td>\n",
       "    </tr>\n",
       "    <tr>\n",
       "      <th>216396</th>\n",
       "      <td>1.0</td>\n",
       "      <td>0.064516</td>\n",
       "      <td>0.062500</td>\n",
       "      <td>0.0</td>\n",
       "      <td>0.081516</td>\n",
       "      <td>1.0</td>\n",
       "      <td>0.0</td>\n",
       "      <td>0.0</td>\n",
       "      <td>0.0</td>\n",
       "      <td>0.0</td>\n",
       "      <td>0.0</td>\n",
       "      <td>1.0</td>\n",
       "      <td>0.0</td>\n",
       "    </tr>\n",
       "    <tr>\n",
       "      <th>216397</th>\n",
       "      <td>0.0</td>\n",
       "      <td>0.048387</td>\n",
       "      <td>0.046875</td>\n",
       "      <td>0.0</td>\n",
       "      <td>0.062903</td>\n",
       "      <td>0.0</td>\n",
       "      <td>0.0</td>\n",
       "      <td>0.0</td>\n",
       "      <td>0.0</td>\n",
       "      <td>0.0</td>\n",
       "      <td>0.0</td>\n",
       "      <td>1.0</td>\n",
       "      <td>0.0</td>\n",
       "    </tr>\n",
       "    <tr>\n",
       "      <th>216398</th>\n",
       "      <td>0.0</td>\n",
       "      <td>0.080645</td>\n",
       "      <td>0.187500</td>\n",
       "      <td>0.0</td>\n",
       "      <td>0.037432</td>\n",
       "      <td>0.0</td>\n",
       "      <td>0.0</td>\n",
       "      <td>0.0</td>\n",
       "      <td>0.0</td>\n",
       "      <td>0.0</td>\n",
       "      <td>0.0</td>\n",
       "      <td>1.0</td>\n",
       "      <td>0.0</td>\n",
       "    </tr>\n",
       "    <tr>\n",
       "      <th>216399</th>\n",
       "      <td>1.0</td>\n",
       "      <td>0.096774</td>\n",
       "      <td>0.109375</td>\n",
       "      <td>0.0</td>\n",
       "      <td>0.107295</td>\n",
       "      <td>0.0</td>\n",
       "      <td>0.0</td>\n",
       "      <td>0.0</td>\n",
       "      <td>0.0</td>\n",
       "      <td>0.0</td>\n",
       "      <td>0.0</td>\n",
       "      <td>1.0</td>\n",
       "      <td>0.0</td>\n",
       "    </tr>\n",
       "  </tbody>\n",
       "</table>\n",
       "<p>216400 rows × 13 columns</p>\n",
       "</div>"
      ],
      "text/plain": [
       "        Gender       Age   Vintage  Credit_Product  Avg_Account_Balance  \\\n",
       "0          0.0  0.806452  0.281250             0.0             0.099205   \n",
       "1          0.0  0.112903  0.195312             0.0             0.054321   \n",
       "2          0.0  0.532258  0.148438             0.0             0.141660   \n",
       "3          1.0  0.177419  0.093750             0.0             0.043525   \n",
       "4          0.0  0.112903  0.203125             0.0             0.083823   \n",
       "...        ...       ...       ...             ...                  ...   \n",
       "216395     0.0  0.241935  0.046875             1.0             0.032317   \n",
       "216396     1.0  0.064516  0.062500             0.0             0.081516   \n",
       "216397     0.0  0.048387  0.046875             0.0             0.062903   \n",
       "216398     0.0  0.080645  0.187500             0.0             0.037432   \n",
       "216399     1.0  0.096774  0.109375             0.0             0.107295   \n",
       "\n",
       "        Is_Active  Is_Lead  Channel_Code_X2  Channel_Code_X3  Channel_Code_X4  \\\n",
       "0             0.0      0.0              0.0              1.0              0.0   \n",
       "1             0.0      0.0              0.0              0.0              0.0   \n",
       "2             1.0      0.0              0.0              1.0              0.0   \n",
       "3             0.0      0.0              0.0              0.0              0.0   \n",
       "4             0.0      0.0              0.0              0.0              0.0   \n",
       "...           ...      ...              ...              ...              ...   \n",
       "216395        0.0      0.0              1.0              0.0              0.0   \n",
       "216396        1.0      0.0              0.0              0.0              0.0   \n",
       "216397        0.0      0.0              0.0              0.0              0.0   \n",
       "216398        0.0      0.0              0.0              0.0              0.0   \n",
       "216399        0.0      0.0              0.0              0.0              0.0   \n",
       "\n",
       "        Occupation_Other  Occupation_Salaried  Occupation_Self_Employed  \n",
       "0                    1.0                  0.0                       0.0  \n",
       "1                    0.0                  1.0                       0.0  \n",
       "2                    0.0                  0.0                       1.0  \n",
       "3                    0.0                  1.0                       0.0  \n",
       "4                    0.0                  1.0                       0.0  \n",
       "...                  ...                  ...                       ...  \n",
       "216395               0.0                  1.0                       0.0  \n",
       "216396               0.0                  1.0                       0.0  \n",
       "216397               0.0                  1.0                       0.0  \n",
       "216398               0.0                  1.0                       0.0  \n",
       "216399               0.0                  1.0                       0.0  \n",
       "\n",
       "[216400 rows x 13 columns]"
      ]
     },
     "execution_count": 50,
     "metadata": {},
     "output_type": "execute_result"
    }
   ],
   "source": [
    "#feature scaling\n",
    "from sklearn.preprocessing import MinMaxScaler\n",
    "scaler = MinMaxScaler()\n",
    "scaled_train_df = scaler.fit_transform(df_train_final)\n",
    "scaled_train_df = pd.DataFrame(scaled_train_df, columns=df_train_final.columns)\n",
    "\n",
    "scaled_train_df"
   ]
  },
  {
   "cell_type": "code",
   "execution_count": 51,
   "metadata": {},
   "outputs": [
    {
     "data": {
      "text/html": [
       "<div>\n",
       "<style scoped>\n",
       "    .dataframe tbody tr th:only-of-type {\n",
       "        vertical-align: middle;\n",
       "    }\n",
       "\n",
       "    .dataframe tbody tr th {\n",
       "        vertical-align: top;\n",
       "    }\n",
       "\n",
       "    .dataframe thead th {\n",
       "        text-align: right;\n",
       "    }\n",
       "</style>\n",
       "<table border=\"1\" class=\"dataframe\">\n",
       "  <thead>\n",
       "    <tr style=\"text-align: right;\">\n",
       "      <th></th>\n",
       "      <th>Gender</th>\n",
       "      <th>Age</th>\n",
       "      <th>Vintage</th>\n",
       "      <th>Credit_Product</th>\n",
       "      <th>Avg_Account_Balance</th>\n",
       "      <th>Is_Active</th>\n",
       "      <th>Channel_Code_X2</th>\n",
       "      <th>Channel_Code_X3</th>\n",
       "      <th>Channel_Code_X4</th>\n",
       "      <th>Occupation_Other</th>\n",
       "      <th>Occupation_Salaried</th>\n",
       "      <th>Occupation_Self_Employed</th>\n",
       "    </tr>\n",
       "  </thead>\n",
       "  <tbody>\n",
       "    <tr>\n",
       "      <th>0</th>\n",
       "      <td>1.0</td>\n",
       "      <td>0.081967</td>\n",
       "      <td>0.140625</td>\n",
       "      <td>1.0</td>\n",
       "      <td>0.072805</td>\n",
       "      <td>0.0</td>\n",
       "      <td>0.0</td>\n",
       "      <td>0.0</td>\n",
       "      <td>0.0</td>\n",
       "      <td>1.0</td>\n",
       "      <td>0.0</td>\n",
       "      <td>0.0</td>\n",
       "    </tr>\n",
       "    <tr>\n",
       "      <th>1</th>\n",
       "      <td>1.0</td>\n",
       "      <td>0.311475</td>\n",
       "      <td>0.328125</td>\n",
       "      <td>0.0</td>\n",
       "      <td>0.091333</td>\n",
       "      <td>0.0</td>\n",
       "      <td>1.0</td>\n",
       "      <td>0.0</td>\n",
       "      <td>0.0</td>\n",
       "      <td>1.0</td>\n",
       "      <td>0.0</td>\n",
       "      <td>0.0</td>\n",
       "    </tr>\n",
       "    <tr>\n",
       "      <th>2</th>\n",
       "      <td>1.0</td>\n",
       "      <td>0.114754</td>\n",
       "      <td>0.054688</td>\n",
       "      <td>0.0</td>\n",
       "      <td>0.019558</td>\n",
       "      <td>0.0</td>\n",
       "      <td>0.0</td>\n",
       "      <td>0.0</td>\n",
       "      <td>0.0</td>\n",
       "      <td>0.0</td>\n",
       "      <td>1.0</td>\n",
       "      <td>0.0</td>\n",
       "    </tr>\n",
       "    <tr>\n",
       "      <th>3</th>\n",
       "      <td>1.0</td>\n",
       "      <td>0.081967</td>\n",
       "      <td>0.203125</td>\n",
       "      <td>0.0</td>\n",
       "      <td>0.085520</td>\n",
       "      <td>0.0</td>\n",
       "      <td>0.0</td>\n",
       "      <td>0.0</td>\n",
       "      <td>0.0</td>\n",
       "      <td>1.0</td>\n",
       "      <td>0.0</td>\n",
       "      <td>0.0</td>\n",
       "    </tr>\n",
       "    <tr>\n",
       "      <th>4</th>\n",
       "      <td>0.0</td>\n",
       "      <td>0.081967</td>\n",
       "      <td>0.093750</td>\n",
       "      <td>0.0</td>\n",
       "      <td>0.064179</td>\n",
       "      <td>0.0</td>\n",
       "      <td>0.0</td>\n",
       "      <td>0.0</td>\n",
       "      <td>0.0</td>\n",
       "      <td>1.0</td>\n",
       "      <td>0.0</td>\n",
       "      <td>0.0</td>\n",
       "    </tr>\n",
       "    <tr>\n",
       "      <th>...</th>\n",
       "      <td>...</td>\n",
       "      <td>...</td>\n",
       "      <td>...</td>\n",
       "      <td>...</td>\n",
       "      <td>...</td>\n",
       "      <td>...</td>\n",
       "      <td>...</td>\n",
       "      <td>...</td>\n",
       "      <td>...</td>\n",
       "      <td>...</td>\n",
       "      <td>...</td>\n",
       "      <td>...</td>\n",
       "    </tr>\n",
       "    <tr>\n",
       "      <th>105307</th>\n",
       "      <td>1.0</td>\n",
       "      <td>0.459016</td>\n",
       "      <td>0.617188</td>\n",
       "      <td>1.0</td>\n",
       "      <td>0.426851</td>\n",
       "      <td>1.0</td>\n",
       "      <td>1.0</td>\n",
       "      <td>0.0</td>\n",
       "      <td>0.0</td>\n",
       "      <td>0.0</td>\n",
       "      <td>1.0</td>\n",
       "      <td>0.0</td>\n",
       "    </tr>\n",
       "    <tr>\n",
       "      <th>105308</th>\n",
       "      <td>1.0</td>\n",
       "      <td>0.508197</td>\n",
       "      <td>0.617188</td>\n",
       "      <td>1.0</td>\n",
       "      <td>0.114963</td>\n",
       "      <td>0.0</td>\n",
       "      <td>1.0</td>\n",
       "      <td>0.0</td>\n",
       "      <td>0.0</td>\n",
       "      <td>1.0</td>\n",
       "      <td>0.0</td>\n",
       "      <td>0.0</td>\n",
       "    </tr>\n",
       "    <tr>\n",
       "      <th>105309</th>\n",
       "      <td>1.0</td>\n",
       "      <td>0.180328</td>\n",
       "      <td>0.062500</td>\n",
       "      <td>0.0</td>\n",
       "      <td>0.170047</td>\n",
       "      <td>0.0</td>\n",
       "      <td>0.0</td>\n",
       "      <td>0.0</td>\n",
       "      <td>1.0</td>\n",
       "      <td>0.0</td>\n",
       "      <td>1.0</td>\n",
       "      <td>0.0</td>\n",
       "    </tr>\n",
       "    <tr>\n",
       "      <th>105310</th>\n",
       "      <td>1.0</td>\n",
       "      <td>0.475410</td>\n",
       "      <td>0.671875</td>\n",
       "      <td>0.0</td>\n",
       "      <td>0.072280</td>\n",
       "      <td>1.0</td>\n",
       "      <td>0.0</td>\n",
       "      <td>1.0</td>\n",
       "      <td>0.0</td>\n",
       "      <td>1.0</td>\n",
       "      <td>0.0</td>\n",
       "      <td>0.0</td>\n",
       "    </tr>\n",
       "    <tr>\n",
       "      <th>105311</th>\n",
       "      <td>1.0</td>\n",
       "      <td>0.049180</td>\n",
       "      <td>0.109375</td>\n",
       "      <td>0.0</td>\n",
       "      <td>0.057551</td>\n",
       "      <td>0.0</td>\n",
       "      <td>0.0</td>\n",
       "      <td>0.0</td>\n",
       "      <td>0.0</td>\n",
       "      <td>0.0</td>\n",
       "      <td>1.0</td>\n",
       "      <td>0.0</td>\n",
       "    </tr>\n",
       "  </tbody>\n",
       "</table>\n",
       "<p>105312 rows × 12 columns</p>\n",
       "</div>"
      ],
      "text/plain": [
       "        Gender       Age   Vintage  Credit_Product  Avg_Account_Balance  \\\n",
       "0          1.0  0.081967  0.140625             1.0             0.072805   \n",
       "1          1.0  0.311475  0.328125             0.0             0.091333   \n",
       "2          1.0  0.114754  0.054688             0.0             0.019558   \n",
       "3          1.0  0.081967  0.203125             0.0             0.085520   \n",
       "4          0.0  0.081967  0.093750             0.0             0.064179   \n",
       "...        ...       ...       ...             ...                  ...   \n",
       "105307     1.0  0.459016  0.617188             1.0             0.426851   \n",
       "105308     1.0  0.508197  0.617188             1.0             0.114963   \n",
       "105309     1.0  0.180328  0.062500             0.0             0.170047   \n",
       "105310     1.0  0.475410  0.671875             0.0             0.072280   \n",
       "105311     1.0  0.049180  0.109375             0.0             0.057551   \n",
       "\n",
       "        Is_Active  Channel_Code_X2  Channel_Code_X3  Channel_Code_X4  \\\n",
       "0             0.0              0.0              0.0              0.0   \n",
       "1             0.0              1.0              0.0              0.0   \n",
       "2             0.0              0.0              0.0              0.0   \n",
       "3             0.0              0.0              0.0              0.0   \n",
       "4             0.0              0.0              0.0              0.0   \n",
       "...           ...              ...              ...              ...   \n",
       "105307        1.0              1.0              0.0              0.0   \n",
       "105308        0.0              1.0              0.0              0.0   \n",
       "105309        0.0              0.0              0.0              1.0   \n",
       "105310        1.0              0.0              1.0              0.0   \n",
       "105311        0.0              0.0              0.0              0.0   \n",
       "\n",
       "        Occupation_Other  Occupation_Salaried  Occupation_Self_Employed  \n",
       "0                    1.0                  0.0                       0.0  \n",
       "1                    1.0                  0.0                       0.0  \n",
       "2                    0.0                  1.0                       0.0  \n",
       "3                    1.0                  0.0                       0.0  \n",
       "4                    1.0                  0.0                       0.0  \n",
       "...                  ...                  ...                       ...  \n",
       "105307               0.0                  1.0                       0.0  \n",
       "105308               1.0                  0.0                       0.0  \n",
       "105309               0.0                  1.0                       0.0  \n",
       "105310               1.0                  0.0                       0.0  \n",
       "105311               0.0                  1.0                       0.0  \n",
       "\n",
       "[105312 rows x 12 columns]"
      ]
     },
     "execution_count": 51,
     "metadata": {},
     "output_type": "execute_result"
    }
   ],
   "source": [
    "scaled_test_df = scaler.fit_transform(df_test_final)\n",
    "scaled_test_df = pd.DataFrame(scaled_test_df, columns=df_test_final.columns)\n",
    "\n",
    "scaled_test_df"
   ]
  },
  {
   "cell_type": "code",
   "execution_count": 52,
   "metadata": {},
   "outputs": [
    {
     "name": "stdout",
     "output_type": "stream",
     "text": [
      "(216400, 13)\n",
      "(105312, 12)\n"
     ]
    }
   ],
   "source": [
    "print(scaled_train_df.shape)\n",
    "print(scaled_test_df.shape)"
   ]
  },
  {
   "cell_type": "code",
   "execution_count": 53,
   "metadata": {},
   "outputs": [],
   "source": [
    "X = scaled_train_df.copy()"
   ]
  },
  {
   "cell_type": "code",
   "execution_count": 54,
   "metadata": {},
   "outputs": [],
   "source": [
    "y_train = X.pop('Is_Lead')\n",
    "X_train= X"
   ]
  },
  {
   "cell_type": "code",
   "execution_count": 55,
   "metadata": {},
   "outputs": [
    {
     "data": {
      "text/plain": [
       "12"
      ]
     },
     "execution_count": 55,
     "metadata": {},
     "output_type": "execute_result"
    }
   ],
   "source": [
    "len(X_train.columns)"
   ]
  },
  {
   "cell_type": "markdown",
   "metadata": {},
   "source": [
    "# MOdel Building:-"
   ]
  },
  {
   "cell_type": "markdown",
   "metadata": {},
   "source": [
    "## Random Forest Classifier"
   ]
  },
  {
   "cell_type": "markdown",
   "metadata": {},
   "source": [
    "### K fold cross validation"
   ]
  },
  {
   "cell_type": "code",
   "execution_count": 56,
   "metadata": {},
   "outputs": [],
   "source": [
    "from sklearn.model_selection import GridSearchCV\n",
    "from sklearn.ensemble import RandomForestClassifier"
   ]
  },
  {
   "cell_type": "code",
   "execution_count": 57,
   "metadata": {},
   "outputs": [],
   "source": [
    "\n",
    "rf = RandomForestClassifier(random_state=42)"
   ]
  },
  {
   "cell_type": "code",
   "execution_count": 58,
   "metadata": {},
   "outputs": [],
   "source": [
    "param_rf = {\n",
    "    'bootstrap': [False],\n",
    "    'max_depth': [15],\n",
    "    'max_features': [7],\n",
    "    'min_samples_leaf': [30],\n",
    "    'n_estimators': [1000]\n",
    "}"
   ]
  },
  {
   "cell_type": "code",
   "execution_count": 59,
   "metadata": {},
   "outputs": [],
   "source": [
    "grid_search = GridSearchCV(estimator= rf, param_grid = param_rf, cv = 4, n_jobs=-1, verbose=1, scoring=\"roc_auc\")"
   ]
  },
  {
   "cell_type": "code",
   "execution_count": 60,
   "metadata": {},
   "outputs": [
    {
     "name": "stdout",
     "output_type": "stream",
     "text": [
      "Fitting 4 folds for each of 1 candidates, totalling 4 fits\n"
     ]
    },
    {
     "name": "stderr",
     "output_type": "stream",
     "text": [
      "[Parallel(n_jobs=-1)]: Using backend LokyBackend with 8 concurrent workers.\n",
      "[Parallel(n_jobs=-1)]: Done   4 out of   4 | elapsed: 20.0min remaining:    0.0s\n",
      "[Parallel(n_jobs=-1)]: Done   4 out of   4 | elapsed: 20.0min finished\n"
     ]
    },
    {
     "name": "stdout",
     "output_type": "stream",
     "text": [
      "Wall time: 28min 57s\n"
     ]
    },
    {
     "data": {
      "text/plain": [
       "GridSearchCV(cv=4, estimator=RandomForestClassifier(random_state=42), n_jobs=-1,\n",
       "             param_grid={'bootstrap': [False], 'max_depth': [15],\n",
       "                         'max_features': [7], 'min_samples_leaf': [30],\n",
       "                         'n_estimators': [1000]},\n",
       "             scoring='roc_auc', verbose=1)"
      ]
     },
     "execution_count": 60,
     "metadata": {},
     "output_type": "execute_result"
    }
   ],
   "source": [
    "%%time\n",
    "grid_search.fit(X_train, y_train)"
   ]
  },
  {
   "cell_type": "code",
   "execution_count": 61,
   "metadata": {},
   "outputs": [
    {
     "data": {
      "text/plain": [
       "0.7993847130706164"
      ]
     },
     "execution_count": 61,
     "metadata": {},
     "output_type": "execute_result"
    }
   ],
   "source": [
    "#best score from grid search results\n",
    "grid_search.best_score_"
   ]
  },
  {
   "cell_type": "code",
   "execution_count": 62,
   "metadata": {},
   "outputs": [
    {
     "data": {
      "text/plain": [
       "RandomForestClassifier(bootstrap=False, max_depth=15, max_features=7,\n",
       "                       min_samples_leaf=30, n_estimators=1000, random_state=42)"
      ]
     },
     "execution_count": 62,
     "metadata": {},
     "output_type": "execute_result"
    }
   ],
   "source": [
    "#best estimators from grid search results\n",
    "grid_search.best_estimator_"
   ]
  },
  {
   "cell_type": "code",
   "execution_count": 63,
   "metadata": {},
   "outputs": [],
   "source": [
    "rf_best = grid_search.best_estimator_"
   ]
  },
  {
   "cell_type": "code",
   "execution_count": 64,
   "metadata": {},
   "outputs": [],
   "source": [
    "def evaluate_model(rf):\n",
    "    y_train_pred = rf.predict(X_train)\n",
    "    y_test_pred = rf.predict(scaled_test_df)\n",
    "    print('Train set Performance')\n",
    "    print(f'Accuracy is {accuracy_score(y_train, y_train_pred)}')\n",
    "    print(f'Confusion Matrix : \\n {confusion_matrix(y_train,y_train_pred)}')\n",
    "    print(f'ROC_AUC_Score: {roc_auc_score(y_train, y_train_pred)}')"
   ]
  },
  {
   "cell_type": "code",
   "execution_count": 65,
   "metadata": {},
   "outputs": [
    {
     "name": "stdout",
     "output_type": "stream",
     "text": [
      "Train set Performance\n",
      "Accuracy is 0.8737892791127542\n",
      "Confusion Matrix : \n",
      " [[180014   3073]\n",
      " [ 24239   9074]]\n",
      "ROC_AUC_Score: 0.627800892641416\n"
     ]
    }
   ],
   "source": [
    "evaluate_model(rf_best)"
   ]
  },
  {
   "cell_type": "code",
   "execution_count": 66,
   "metadata": {},
   "outputs": [
    {
     "data": {
      "text/plain": [
       "RandomForestClassifier(bootstrap=False, max_depth=15, max_features=7,\n",
       "                       min_samples_leaf=30, n_estimators=1000, random_state=42)"
      ]
     },
     "execution_count": 66,
     "metadata": {},
     "output_type": "execute_result"
    }
   ],
   "source": [
    "rf_best.fit(X_train,y_train)"
   ]
  },
  {
   "cell_type": "code",
   "execution_count": 67,
   "metadata": {},
   "outputs": [],
   "source": [
    "y_train_pred = rf_best.predict(X_train)\n",
    "y_test_pred = rf_best.predict(scaled_test_df)"
   ]
  },
  {
   "cell_type": "code",
   "execution_count": 68,
   "metadata": {},
   "outputs": [],
   "source": [
    "def draw_roc( actual, probs ):\n",
    "    fpr, tpr, thresholds = roc_curve( actual, probs,\n",
    "                                              drop_intermediate = False )\n",
    "    auc_score =roc_auc_score( actual, probs )\n",
    "    plt.figure(figsize=(5, 5))\n",
    "    plt.plot( fpr, tpr, label='ROC curve (area = %0.2f)' % auc_score )\n",
    "    plt.plot([0, 1], [0, 1], 'k--')\n",
    "    plt.xlim([0.0, 1.0])\n",
    "    plt.ylim([0.0, 1.05])\n",
    "    plt.xlabel('False Positive Rate or [1 - True Negative Rate]')\n",
    "    plt.ylabel('True Positive Rate')\n",
    "    plt.title('Receiver operating characteristic example')\n",
    "    plt.legend(loc=\"lower right\")\n",
    "    plt.show()\n",
    "\n",
    "    return None"
   ]
  },
  {
   "cell_type": "code",
   "execution_count": 69,
   "metadata": {},
   "outputs": [
    {
     "data": {
      "image/png": "[encoded data removed]",
      "text/plain": [
       "<Figure size 360x360 with 1 Axes>"
      ]
     },
     "metadata": {
      "needs_background": "light"
     },
     "output_type": "display_data"
    }
   ],
   "source": [
    "fpr, tpr, thresholds = roc_curve( y_train, y_train_pred, drop_intermediate = False )\n",
    "\n",
    "#draw_roc(y_train_pred_final.Is_Lead, y_train_pred_final.Islead_Prob)\n",
    "\n",
    "draw_roc(y_train,y_train_pred)"
   ]
  },
  {
   "cell_type": "code",
   "execution_count": 70,
   "metadata": {},
   "outputs": [],
   "source": [
    "df_rf = pd.DataFrame()\n",
    "df_rf['ID'] = df_test['ID']\n",
    "df_rf['Is_Lead'] = y_test_pred\n",
    "\n",
    "df_rf.to_csv(r\"C:\\Users\\avina\\OneDrive\\Desktop\\Data\\Job-a-thon dataset\\rf_lat.csv\")"
   ]
  },
  {
   "cell_type": "code",
   "execution_count": null,
   "metadata": {},
   "outputs": [],
   "source": []
  }
 ],
 "metadata": {
  "kernelspec": {
   "display_name": "Python 3",
   "language": "python",
   "name": "python3"
  },
  "language_info": {
   "codemirror_mode": {
    "name": "ipython",
    "version": 3
   },
   "file_extension": ".py",
   "mimetype": "text/x-python",
   "name": "python",
   "nbconvert_exporter": "python",
   "pygments_lexer": "ipython3",
   "version": "3.7.4"
  }
 },
 "nbformat": 4,
 "nbformat_minor": 2
}
